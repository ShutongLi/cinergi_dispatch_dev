{
 "cells": [
  {
   "cell_type": "code",
   "execution_count": 15,
   "metadata": {},
   "outputs": [],
   "source": [
    "import webbrowser\n",
    "import ipywidgets as widgets\n",
    "import dispatch"
   ]
  },
  {
   "cell_type": "code",
   "execution_count": 16,
   "metadata": {},
   "outputs": [],
   "source": [
    "from Distribution import DistObj"
   ]
  },
  {
   "cell_type": "code",
   "execution_count": 17,
   "metadata": {},
   "outputs": [],
   "source": [
    "sample_id = 'e3619c5df2644204b67f51f48525a0b1'\n",
    "documentID = sample_id"
   ]
  },
  {
   "cell_type": "code",
   "execution_count": 18,
   "metadata": {},
   "outputs": [],
   "source": [
    "menu = dispatch.whole_process(documentID)"
   ]
  },
  {
   "cell_type": "code",
   "execution_count": 19,
   "metadata": {},
   "outputs": [
    {
     "data": {
      "application/vnd.jupyter.widget-view+json": {
       "model_id": "a114036e236a477684be479909d81ede",
       "version_major": 2,
       "version_minor": 0
      },
      "text/plain": [
       "Dropdown(options={'WFS Capabilities-9': 'http://suave-jupyterhub.com/user/zeppelin-v/notebooks/DispatchTesting…"
      ]
     },
     "metadata": {},
     "output_type": "display_data"
    }
   ],
   "source": [
    "selection = widgets.Dropdown(options = menu)\n",
    "selection"
   ]
  },
  {
   "cell_type": "code",
   "execution_count": 20,
   "metadata": {},
   "outputs": [
    {
     "name": "stdout",
     "output_type": "stream",
     "text": [
      "If browser fails to redirect...\n",
      "notebook link (click to open): \n",
      "http://suave-jupyterhub.com/user/zeppelin-v/notebooks/DispatchTesting/WFSprocessor.ipynb?endpoint=http://web2.nbmg.unr.edu/ArcGIS/services/CO_Data/COActiveFaults/MapServer/WFSServer\n"
     ]
    }
   ],
   "source": [
    "redirect_url = selection.value\n",
    "webbrowser.open_new(redirect_url)\n",
    "print(\"If browser fails to redirect...\\nnotebook link (click to open): \" + '\\n' + redirect_url)"
   ]
  },
  {
   "cell_type": "code",
   "execution_count": null,
   "metadata": {},
   "outputs": [],
   "source": []
  }
 ],
 "metadata": {
  "kernelspec": {
   "display_name": "Python 3",
   "language": "python",
   "name": "python3"
  },
  "language_info": {
   "codemirror_mode": {
    "name": "ipython",
    "version": 3
   },
   "file_extension": ".py",
   "mimetype": "text/x-python",
   "name": "python",
   "nbconvert_exporter": "python",
   "pygments_lexer": "ipython3",
   "version": "3.6.8"
  }
 },
 "nbformat": 4,
 "nbformat_minor": 2
}
