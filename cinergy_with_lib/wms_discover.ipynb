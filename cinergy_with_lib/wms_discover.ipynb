{
 "cells": [
  {
   "cell_type": "code",
   "execution_count": 43,
   "metadata": {},
   "outputs": [
    {
     "name": "stdout",
     "output_type": "stream",
     "text": [
      "Requirement already satisfied: OWSLib in /opt/conda/lib/python3.6/site-packages (0.18.0)\n",
      "Requirement already satisfied: pytz in /opt/conda/lib/python3.6/site-packages (from OWSLib) (2018.9)\n",
      "Requirement already satisfied: requests>=1.0 in /opt/conda/lib/python3.6/site-packages (from OWSLib) (2.12.4)\n",
      "Requirement already satisfied: pyproj in /opt/conda/lib/python3.6/site-packages (from OWSLib) (2.1.3)\n",
      "Requirement already satisfied: python-dateutil>=1.5 in /opt/conda/lib/python3.6/site-packages (from OWSLib) (2.8.0)\n",
      "Requirement already satisfied: six>=1.5 in /opt/conda/lib/python3.6/site-packages (from python-dateutil>=1.5->OWSLib) (1.12.0)\n"
     ]
    }
   ],
   "source": [
    "!pip install OWSLib"
   ]
  },
  {
   "cell_type": "code",
   "execution_count": 44,
   "metadata": {},
   "outputs": [
    {
     "name": "stdout",
     "output_type": "stream",
     "text": [
      "Collecting lxml\n",
      "\u001b[?25l  Downloading https://files.pythonhosted.org/packages/2d/53/34a9f0c79c548e430148837892b6ae91adee571a0e8b6c17bd7ff9c2d12e/lxml-4.3.4-cp36-cp36m-manylinux1_x86_64.whl (5.7MB)\n",
      "\u001b[K    100% |████████████████████████████████| 5.7MB 7.5MB/s eta 0:00:01    80% |█████████████████████████▋      | 4.5MB 32.1MB/s eta 0:00:01\n",
      "\u001b[?25hInstalling collected packages: lxml\n",
      "Successfully installed lxml-4.3.4\n"
     ]
    }
   ],
   "source": [
    "!pip install lxml"
   ]
  },
  {
   "cell_type": "code",
   "execution_count": 72,
   "metadata": {},
   "outputs": [],
   "source": [
    "import cartopy.crs as ccrs\n",
    "import matplotlib.pyplot as plt\n",
    "%matplotlib inline\n",
    "from IPython.display import Image\n",
    "import ipywidgets as widgets\n",
    "from owslib.wms import WebMapService\n",
    "import requests\n",
    "from io import BytesIO\n",
    "import PIL\n",
    "\n",
    "def produce_img(wms, layer_name):\n",
    "    layer = wms[layer_name]\n",
    "    bbox = layer.boundingBoxWGS84\n",
    "    img  = wms.getmap(layers = ['0'],\n",
    "#                 styles = ['visual_bright'],\n",
    "                 srs = 'EPSG:4326',\n",
    "                 bbox = bbox,\n",
    "                 size = (300, 250),\n",
    "                 format = 'image/jpeg',\n",
    "                 transparent=True)\n",
    "    return Image(img.read())\n",
    "\n",
    "\n",
    "def get_legend(wms, layer_name):\n",
    "    try:\n",
    "        layer = wms[layer_name]\n",
    "        legend_url = layer.styles['default']['legend']\n",
    "        legend_response = requests.get(legend_url)\n",
    "        legend_img = PIL.Image.open(BytesIO(legend_response.content))\n",
    "        return legend_img\n",
    "    except KeyError:\n",
    "        return None"
   ]
  },
  {
   "cell_type": "markdown",
   "metadata": {},
   "source": [
    "see example https://web2.nbmg.unr.edu/ArcGIS/services/CO_Data/COActiveFaults/MapServer/WMSServer?request=GetCapabilities&service=WMS"
   ]
  },
  {
   "cell_type": "code",
   "execution_count": 73,
   "metadata": {},
   "outputs": [],
   "source": [
    "wms_url = 'https://web2.nbmg.unr.edu/ArcGIS/services/CO_Data/COActiveFaults/MapServer/WMSServer?request=GetCapabilities&service=WMS'"
   ]
  },
  {
   "cell_type": "code",
   "execution_count": 74,
   "metadata": {},
   "outputs": [],
   "source": [
    "wms = WebMapService(wms_url)"
   ]
  },
  {
   "cell_type": "code",
   "execution_count": 75,
   "metadata": {},
   "outputs": [
    {
     "data": {
      "application/vnd.jupyter.widget-view+json": {
       "model_id": "8c3628fe197a4ce9813e5a6f2edfd9ca",
       "version_major": 2,
       "version_minor": 0
      },
      "text/plain": [
       "Dropdown(options=('0',), value='0')"
      ]
     },
     "metadata": {},
     "output_type": "display_data"
    }
   ],
   "source": [
    "layers = list(wms.contents)\n",
    "menu = widgets.Dropdown(options = layers)\n",
    "#the layer's name is called 0, ikr its bad\n",
    "menu"
   ]
  },
  {
   "cell_type": "code",
   "execution_count": 76,
   "metadata": {},
   "outputs": [],
   "source": [
    "layer_img = produce_img(wms, menu.value)\n",
    "legend_img = get_legend(wms, menu.value)"
   ]
  },
  {
   "cell_type": "code",
   "execution_count": 77,
   "metadata": {},
   "outputs": [
    {
     "data": {
      "image/jpeg": "[encoded data removed]",
      "text/plain": [
       "<IPython.core.display.Image object>"
      ]
     },
     "metadata": {},
     "output_type": "display_data"
    },
    {
     "data": {
      "image/png": "[encoded data removed]",
      "text/plain": [
       "<PIL.PngImagePlugin.PngImageFile image mode=RGB size=190x112 at 0x7F192FC22E10>"
      ]
     },
     "metadata": {},
     "output_type": "display_data"
    }
   ],
   "source": [
    "display(layer_img)\n",
    "display(legend_img)"
   ]
  },
  {
   "cell_type": "code",
   "execution_count": null,
   "metadata": {},
   "outputs": [],
   "source": []
  }
 ],
 "metadata": {
  "kernelspec": {
   "display_name": "Python 3",
   "language": "python",
   "name": "python3"
  },
  "language_info": {
   "codemirror_mode": {
    "name": "ipython",
    "version": 3
   },
   "file_extension": ".py",
   "mimetype": "text/x-python",
   "name": "python",
   "nbconvert_exporter": "python",
   "pygments_lexer": "ipython3",
   "version": "3.6.8"
  }
 },
 "nbformat": 4,
 "nbformat_minor": 2
}
