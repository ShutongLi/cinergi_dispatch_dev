{
 "cells": [
  {
   "cell_type": "markdown",
   "metadata": {},
   "source": [
    "1.04 Change log: TO-DO\n",
    "<br>\n",
    "...\n",
    "<br>\n",
    "* AVENGERS!!!!! \n",
    "<br>\n",
    "* **ASSEMBLE**"
   ]
  },
  {
   "cell_type": "markdown",
   "metadata": {},
   "source": [
    "1.03 Change log:\n",
    "<br>\n",
    "* add label and description to the menu"
   ]
  },
  {
   "cell_type": "markdown",
   "metadata": {},
   "source": [
    "1.02 Change log:\n",
    "<br>\n",
    "* mapping functionality complete. Now conherently maps from json to token to desired url based on users choice of tokens and specific transfer urls."
   ]
  },
  {
   "cell_type": "markdown",
   "metadata": {},
   "source": [
    "1.01 Change log:\n",
    "<br>\n",
    "* Changed the return type of features to tokens from a set of tokens to a list of dictionaries of token-url pairs. Urls in one dict should be the same.\n",
    "<br>\n",
    "* Changed the token aggregation logic in dists_to_tokens(). The result is no longer a union of different set of tokens (due to above change) but a concatnation of the dicts"
   ]
  },
  {
   "cell_type": "markdown",
   "metadata": {},
   "source": [
    "# Data Discovery Studio Jupyter Notebook Dispatcher\n",
    "\n",
    "Welcome to the Data Discovery Studio's Jupyter Notebook Server.\n",
    "\n",
    "This environment allows you to process data referenced from the DDS discovery interface. In a typical case, DDS document ID will be passed to the DDS notebook dispatcher, and then an appropriate notebook (for this data type) will be called to retrieve, analyze, visualize and otherwise process the data referenced in the DDS metadata record.\n",
    "\n",
    "Example call with Document ID from DDS: CinergiDispatch.ipynb?documentId=61cc7f6afb5246d2be41811e94a1a8ea\n",
    "\n",
    "In addition, if you have a collection of Jupyter notebooks organized in a similar github repository (e.g., to retrieve and visualize  additional types of dat,a or to offer additional processing), you can clone this repository into a running container and execute your copy of the dispatcher for the same document ID (see cell 2a.) \n",
    "\n",
    "## 1. Execute the cells below to get parameters from DDS and select a notebook for processing ###\n",
    "\n"
   ]
  },
  {
   "cell_type": "code",
   "execution_count": 1,
   "metadata": {},
   "outputs": [
    {
     "name": "stdout",
     "output_type": "stream",
     "text": [
      "Requirement already satisfied: lxml in /opt/conda/lib/python3.6/site-packages (4.3.4)\r\n"
     ]
    }
   ],
   "source": [
    "!pip install lxml"
   ]
  },
  {
   "cell_type": "code",
   "execution_count": 2,
   "metadata": {},
   "outputs": [],
   "source": [
    "from __future__ import print_function\n",
    "import ntpath\n",
    "from ipywidgets import interact, interactive, fixed, interact_manual\n",
    "import ipywidgets as widgets\n",
    "import webbrowser\n",
    "from lxml import etree  #supposed to be better than xml.etree\n",
    "import json\n",
    "import pandas as pd\n",
    "from __future__ import print_function\n",
    "from ipywidgets import interact, interactive, fixed, interact_manual\n",
    "import ipywidgets as widgets\n",
    "import requests"
   ]
  },
  {
   "cell_type": "code",
   "execution_count": 3,
   "metadata": {},
   "outputs": [
    {
     "data": {
      "application/javascript": [
       "function getQueryStringValue (key)\n",
       "{  \n",
       "    return unescape(window.location.search.replace(new RegExp(\"^(?:.*[&\\\\?]\" + escape(key).replace(/[\\.\\+\\*]/g, \"\\\\$&\") + \"(?:\\\\=([^&]*))?)?.*$\", \"i\"), \"$1\"));\n",
       "}\n",
       "IPython.notebook.kernel.execute(\"documentID='\".concat(getQueryStringValue(\"documentId\")).concat(\"'\"));\n",
       "IPython.notebook.kernel.execute(\"user='\".concat(getQueryStringValue(\"user\")).concat(\"'\"));\n",
       "IPython.notebook.kernel.execute(\"full_notebook_url='\" + window.location + \"'\"); "
      ],
      "text/plain": [
       "<IPython.core.display.Javascript object>"
      ]
     },
     "metadata": {},
     "output_type": "display_data"
    }
   ],
   "source": [
    "%%javascript\n",
    "function getQueryStringValue (key)\n",
    "{  \n",
    "    return unescape(window.location.search.replace(new RegExp(\"^(?:.*[&\\\\?]\" + escape(key).replace(/[\\.\\+\\*]/g, \"\\\\$&\") + \"(?:\\\\=([^&]*))?)?.*$\", \"i\"), \"$1\"));\n",
    "}\n",
    "IPython.notebook.kernel.execute(\"documentID='\".concat(getQueryStringValue(\"documentId\")).concat(\"'\"));\n",
    "IPython.notebook.kernel.execute(\"user='\".concat(getQueryStringValue(\"user\")).concat(\"'\"));\n",
    "IPython.notebook.kernel.execute(\"full_notebook_url='\" + window.location + \"'\"); "
   ]
  },
  {
   "cell_type": "code",
   "execution_count": 4,
   "metadata": {},
   "outputs": [],
   "source": [
    "# Only run this cell when it is for demo!!!!!!!\n",
    "sample_id = 'e3619c5df2644204b67f51f48525a0b1'\n",
    "documentID = sample_id"
   ]
  },
  {
   "cell_type": "markdown",
   "metadata": {},
   "source": [
    "## 2. Print out parameters passed to Jupyter: ##"
   ]
  },
  {
   "cell_type": "code",
   "execution_count": 5,
   "metadata": {},
   "outputs": [
    {
     "name": "stdout",
     "output_type": "stream",
     "text": [
      "User:  \n",
      "DocumentID:  e3619c5df2644204b67f51f48525a0b1\n",
      "Full notebook URL:  https://datahub.ucsd.edu/user/shl636/notebooks/Cinergi_testings/token_assignment_v1.02.ipynb#\n"
     ]
    }
   ],
   "source": [
    "# Check if the parameters are correct\n",
    "from __future__ import print_function\n",
    "import ntpath\n",
    "from ipywidgets import interact, interactive, fixed, interact_manual\n",
    "import ipywidgets as widgets\n",
    "import webbrowser\n",
    "url_partitioned = full_notebook_url.partition('/CinergiDispatch')\n",
    "base_url = url_partitioned[0];\n",
    "\n",
    "print(\"User: \",user)\n",
    "print(\"DocumentID: \", documentID)\n",
    "print(\"Full notebook URL: \", full_notebook_url)"
   ]
  },
  {
   "cell_type": "markdown",
   "metadata": {},
   "source": [
    "### 2.1 Parsing XML metadata"
   ]
  },
  {
   "cell_type": "code",
   "execution_count": 6,
   "metadata": {},
   "outputs": [],
   "source": [
    "NSMAP = {\"gmi\":\"http://www.isotc211.org/2005/gmi\" ,\n",
    "    \"gco\":\"http://www.isotc211.org/2005/gco\" ,\n",
    "    \"gmd\":\"http://www.isotc211.org/2005/gmd\" ,\n",
    "    \"gml\":\"http://www.opengis.net/gml\" ,\n",
    "    \"gmx\":\"http://www.isotc211.org/2005/gmx\" ,\n",
    "    \"gts\":\"http://www.isotc211.org/2005/gts\" ,\n",
    "    \"srv\":\"http://www.isotc211.org/2005/srv\" ,\n",
    "    \"xlink\":\"http://www.w3.org/1999/xlink\"}"
   ]
  },
  {
   "cell_type": "code",
   "execution_count": 7,
   "metadata": {},
   "outputs": [
    {
     "name": "stdout",
     "output_type": "stream",
     "text": [
      "metadata URL:  http://datadiscoverystudio.org/geoportal/rest/metadata/item/e3619c5df2644204b67f51f48525a0b1/xml\n"
     ]
    }
   ],
   "source": [
    "#construct url for metadata\n",
    "catalogURL = \"http://datadiscoverystudio.org/geoportal/\"\n",
    "metadataURLx=catalogURL + 'rest/metadata/item/' + documentID + '/xml'\n",
    "#metadata = requests.get(metadataURLx)\n",
    "\n",
    "print(\"metadata URL: \", metadataURLx)"
   ]
  },
  {
   "cell_type": "code",
   "execution_count": 8,
   "metadata": {},
   "outputs": [
    {
     "name": "stdout",
     "output_type": "stream",
     "text": [
      "1.0\n"
     ]
    }
   ],
   "source": [
    "#tree is an element tree\n",
    "tree = etree.parse(metadataURLx)\n",
    "#root = etree.tostring(tree.getroot())\n",
    "root = tree.getroot()\n",
    "docinfo = tree.docinfo\n",
    "print(docinfo.xml_version)"
   ]
  },
  {
   "cell_type": "code",
   "execution_count": 9,
   "metadata": {},
   "outputs": [
    {
     "name": "stdout",
     "output_type": "stream",
     "text": [
      "Colorado Active Faults\n"
     ]
    }
   ],
   "source": [
    "title=tree.find(\"//gmd:identificationInfo//gmd:title/gco:CharacterString\",namespaces=NSMAP).text\n",
    "print(title)"
   ]
  },
  {
   "cell_type": "code",
   "execution_count": 10,
   "metadata": {},
   "outputs": [],
   "source": [
    "# define distribution object with CI_ONlineResource elements, plus the distributor organization \n",
    "#  and list of possible formats\n",
    "\n",
    "class DistObj:\n",
    "    def __init__(self,aname):\n",
    "        self.name = aname\n",
    "        self.url = ''\n",
    "        self.description = ''\n",
    "        self.protocol = ''\n",
    "        self.appprofile = ''\n",
    "        self.functioncode = ''\n",
    "        self.functiontext = ''\n",
    "        self.distorg = ''\n",
    "        self.formatlist = []\n",
    "        \n",
    "    def dump(self):\n",
    "        return {\"adistobj\": {'name': self.name,\n",
    "                               'url': self.url,\n",
    "                               'description': self.description,\n",
    "                               'protocol': self.protocol,\n",
    "                                'appprofile': self.appprofile,\n",
    "                               'functioncode': self.functioncode,\n",
    "                               'functiontext': self.functiontext,\n",
    "                               'distorg': self.distorg,\n",
    "                               'formatlist' : self.formatlist                            \n",
    "                             }}"
   ]
  },
  {
   "cell_type": "code",
   "execution_count": 11,
   "metadata": {},
   "outputs": [],
   "source": [
    "# # development of logic for reading the xml tree\n",
    "# for  dist in tree.getiterator(\"{http://www.isotc211.org/2005/gmd}MD_Distribution\"):\n",
    "#     if dist.find(\"gmd:distributionFormat/gmd:MD_Format/gmd:name/gco:CharacterString\",namespaces=NSMAP) is not None: \n",
    "#         # this code is not handling multiple formats under a distribution at this point. \n",
    "#         # have to consider how to deal with binding between formats and digital transfer options\n",
    "        \n",
    "#         dist_format = dist.find(\"gmd:distributionFormat/gmd:MD_Format/gmd:name/gco:CharacterString\",namespaces=NSMAP).text\n",
    "#     else:\n",
    "#         dist_format = ''\n",
    "#     print(dist_format)\n",
    "#     if dist.find(\"gmd:distributor/gmd:MD_Distributor//gmd:organisationName/.\",namespaces=NSMAP) is not None:\n",
    "#         distorg =dist.xpath(\"gmd:distributor//gmd:organisationName/child::node()/text()\",namespaces=NSMAP)[0]\n",
    "#         print('distribution org: ' + distorg)\n",
    "#     else:\n",
    "#         distorg = ''\n",
    "        \n",
    "#     if dist.find(\"gmd:distributor/gmd:MD_Distributor//gmd:MD_DigitalTransferOptions//gmd:CI_OnlineResource.\",namespaces=NSMAP) is not None:\n",
    "#         distonline =dist.find(\"gmd:distributor/gmd:MD_Distributor//gmd:MD_DigitalTransferOptions//gmd:CI_OnlineResource\",namespaces=NSMAP)\n",
    "#     else:\n",
    "#         distonline = ''\n",
    "        \n",
    "#     print(distonline)"
   ]
  },
  {
   "cell_type": "code",
   "execution_count": 12,
   "metadata": {},
   "outputs": [],
   "source": [
    "distlist=[]  # this will be a list of distribution objects\n",
    "\n",
    "# plan -- iterate over the CI_OnlineResource Elements that are in MD_DigitalTransfer Options\n",
    "for  elt in tree.getiterator(\"{http://www.isotc211.org/2005/gmd}MD_DigitalTransferOptions\"):\n",
    "    # only want OnlineResources that are in distribution//MD_DigitalTransferOptions\n",
    "    #  TBD-- figure out what to do with CI_OnlineResource inside SV_OperationMetadata\n",
    "    \n",
    "#iterate through CI_OnlineResource elements\n",
    "    for onlineres in elt.getiterator(\"{http://www.isotc211.org/2005/gmd}CI_OnlineResource\"):\n",
    "        \n",
    "        if ((onlineres.find(\"gmd:linkage/gmd:URL\",namespaces=NSMAP) is not None) and\n",
    "            (onlineres.find(\"gmd:linkage/gmd:URL\",namespaces=NSMAP).text is not None)  ):\n",
    "            theURL=onlineres.find(\"gmd:linkage/gmd:URL\",namespaces=NSMAP).text\n",
    "        else:\n",
    "            theURL = 'empty'\n",
    "        \n",
    "        #print('theURL ' + theURL + '\\n')\n",
    "        \n",
    "        if (onlineres.find(\"gmd:name/gco:CharacterString\",namespaces=NSMAP) is not None):\n",
    "            thename=onlineres.find(\"gmd:name/gco:CharacterString\",namespaces=NSMAP).text\n",
    "        else:\n",
    "            thename=''\n",
    "        \n",
    "        if (onlineres.find(\"gmd:description/gco:CharacterString\",namespaces=NSMAP) is not None):\n",
    "            thedescription=onlineres.find(\"gmd:description/gco:CharacterString\",namespaces=NSMAP).text\n",
    "        else:\n",
    "            thedescription=''\n",
    "            \n",
    "        if (onlineres.find(\"gmd:protocol/gco:CharacterString\",namespaces=NSMAP) is not None):\n",
    "            theprotocol=onlineres.find(\"gmd:protocol/gco:CharacterString\",namespaces=NSMAP).text\n",
    "        else:\n",
    "            theprotocol=''\n",
    "        \n",
    "        if (onlineres.find(\"gmd:applicationProfile/gco:CharacterString\",namespaces=NSMAP) is not None):\n",
    "            theappprofile=onlineres.find(\"gmd:applicationProfile/gco:CharacterString\",namespaces=NSMAP).text\n",
    "        else:\n",
    "            theappprofile=''\n",
    "            \n",
    "        if (onlineres.find(\"gmd:function/gmd:CI_OnLineFunctionCode\",namespaces=NSMAP) is not None):\n",
    "            thefunctioncode=onlineres.find(\"gmd:function/gmd:CI_OnLineFunctionCode\",namespaces=NSMAP).get(\"codeListValue\")\n",
    "        else:\n",
    "            thefunctioncode=''\n",
    "            \n",
    "        if (onlineres.find(\"gmd:function/gmd:CI_OnLineFunctionCode\",namespaces=NSMAP) is not None):    \n",
    "            thefunctiontext=onlineres.find(\"gmd:function/gmd:CI_OnLineFunctionCode\",namespaces=NSMAP).text\n",
    "        else:\n",
    "            thefunctiontext=''\n",
    "            \n",
    "        #print('\\n Distribution: name-%s;\\n  url- %s; \\n  description--%s; \\n   protocol-%s, app profile- %s; function- %s; %s' %\n",
    "        #      (thename,theURL,thedescription,theprotocol,theappprofile,thefunctioncode,thefunctiontext))\n",
    "\n",
    "        #Handle format and distributor organization\n",
    "# have to figure out who is the distributor\n",
    "#check to see if have multiple distributors, if so they should have distributor formats and transfer options\n",
    "#   if they don't then assume all formats apply to all distributions\n",
    "        formatlist = []  #initialize\n",
    "\n",
    "        if len(onlineres.xpath(\"./ancestor::gmd:MD_Distribution/gmd:distributor\",namespaces=NSMAP)) <= 1:\n",
    "     #have zero or one distributor; \n",
    "            distorg = ''\n",
    "            if len(onlineres.xpath(\"./ancestor::gmd:MD_Distribution/gmd:distributor\",namespaces=NSMAP)) == 1:\n",
    "                dist = onlineres.xpath(\"./ancestor::gmd:MD_Distribution/gmd:distributor\",namespaces=NSMAP)[0]\n",
    "                if len(dist.xpath(\"gmd:MD_Distributor//gmd:organisationName\",namespaces=NSMAP)) > 0:\n",
    "                    distorg =dist.xpath(\"gmd:MD_Distributor//gmd:organisationName/child::node()/text()\",namespaces=NSMAP)[0]\n",
    "            #print(\"distorg: \" + distorg)                        \n",
    "    #get formats. Formats might be on Distribution, Distributor, or DigitalTransferOption\n",
    "            thedistformats = onlineres.xpath(\"./ancestor::gmd:MD_Distribution/gmd:distributionFormat\",namespaces=NSMAP)\n",
    "            #get formats at gmd:MD_Distribution/gmd:distributionFormat/gmd:MD_Format       \n",
    "            for aformat in thedistformats:\n",
    "                if ((aformat.find(\"gmd:MD_Format/gmd:name/gco:CharacterString\",namespaces=NSMAP) is not None) and\n",
    "                    (aformat.find(\"gmd:MD_Format/gmd:name/gco:CharacterString\",namespaces=NSMAP).text not in formatlist)):\n",
    "                    formatlist.append(aformat.find(\"gmd:MD_Format/gmd:name/gco:CharacterString\",namespaces=NSMAP).text)\n",
    "\n",
    "            thedistformats = onlineres.xpath(\"./ancestor::gmd:MD_DigitalTransferOptions/gmd:distributionFormat\",namespaces=NSMAP)\n",
    "            #get formats on the parent gmd:MD_DigitalTransferOptions       \n",
    "            for aformat in thedistformats:\n",
    "                if (( aformat.find(\"gmd:MD_Format/gmd:name/gco:CharacterString\",namespaces=NSMAP) is not None) and\n",
    "                            (aformat.find(\"gmd:MD_Format/gmd:name/gco:CharacterString\",namespaces=NSMAP).text not in formatlist)):\n",
    "                    formatlist.append(aformat.find(\"gmd:MD_Format/gmd:name/gco:CharacterString\",namespaces=NSMAP).text)\n",
    "\n",
    "\n",
    "            thedistformats = onlineres.xpath(\"./ancestor::gmd:MD_Distribution//gmd:distributorFormat\",namespaces=NSMAP)\n",
    "            #get formats on the gmd:MD_Distributor; the transfer options might not be child of distributor    \n",
    "            for aformat in thedistformats:\n",
    "                if ((aformat.find(\"gmd:MD_Format/gmd:name/gco:CharacterString\",namespaces=NSMAP) is not None) and\n",
    "                       (aformat.find(\"gmd:MD_Format/gmd:name/gco:CharacterString\",namespaces=NSMAP).text in formatlist)):\n",
    "                    formatlist.append(aformat.find(\"gmd:MD_Format/gmd:name/gco:CharacterString\",namespaces=NSMAP).text)\n",
    "  \n",
    "        elif len(onlineres.xpath(\"./ancestor::gmd:MD_Distributor\",namespaces=NSMAP)) == 1:\n",
    "            #MD_DigitalTransferOptions is child of MD_Distributor; there are multiple distributors\n",
    "            distorg = ''\n",
    "            dist = onlineres.xpath(\"./ancestor::gmd:MD_Distributor\",namespaces=NSMAP)[0]\n",
    "            if len(dist.xpath(\"gmd:distributorContact//gmd:organisationName\",namespaces=NSMAP)) > 0:\n",
    "                distorg =dist.xpath(\"gmd:distributorContact//gmd:organisationName/child::node()/text()\",namespaces=NSMAP)[0]\n",
    "            #print(\"distorg: \" + distorg) \n",
    "            \n",
    "            \n",
    "            #check if they have distributorFormat \n",
    "            thedistformats = onlineres.xpath(\"./ancestor::gmd:MD_Distributor/gmd:distributorFormat\",namespaces=NSMAP)\n",
    "            #get formats on the gmd:MD_Distributor; note in this case look for specific distributor that is parent \n",
    "            #   of the digital transfer options/online resource.\n",
    "            for aformat in thedistformats:\n",
    "                if ((aformat.find(\"gmd:MD_Format/gmd:name/gco:CharacterString\",namespaces=NSMAP) is not None) and\n",
    "                       (aformat.find(\"gmd:MD_Format/gmd:name/gco:CharacterString\",namespaces=NSMAP).text in formatlist)):\n",
    "                    formatlist.append(aformat.find(\"gmd:MD_Format/gmd:name/gco:CharacterString\",namespaces=NSMAP).text)\n",
    "                    \n",
    "                    \n",
    "            thedistformats = onlineres.xpath(\"./ancestor::gmd:MD_DigitalTransferOptions/gmd:distributionFormat\",namespaces=NSMAP)\n",
    "            #get formats specific to the parent gmd:MD_DigitalTransferOptions       \n",
    "            for aformat in thedistformats:\n",
    "                if (( aformat.find(\"gmd:MD_Format/gmd:name/gco:CharacterString\",namespaces=NSMAP) is not None) and\n",
    "                            (aformat.find(\"gmd:MD_Format/gmd:name/gco:CharacterString\",namespaces=NSMAP).text not in formatlist)):\n",
    "                    formatlist.append(aformat.find(\"gmd:MD_Format/gmd:name/gco:CharacterString\",namespaces=NSMAP).text)\n",
    "            \n",
    "            thedistformats = onlineres.xpath(\"./ancestor::gmd:MD_Distribution/gmd:distributionFormat\",namespaces=NSMAP)\n",
    "            #get formats at gmd:MD_Distribution/gmd:distributionFormat; assume these apply to all digital transfer options       \n",
    "            for aformat in thedistformats:\n",
    "                if ((aformat.find(\"gmd:MD_Format/gmd:name/gco:CharacterString\",namespaces=NSMAP) is not None) and\n",
    "                    (aformat.find(\"gmd:MD_Format/gmd:name/gco:CharacterString\",namespaces=NSMAP).text not in formatlist)):\n",
    "                    formatlist.append(aformat.find(\"gmd:MD_Format/gmd:name/gco:CharacterString\",namespaces=NSMAP).text)\n",
    "                    \n",
    "        else:\n",
    "            # multiple distributors, but digital transfer options are not associated with specific distributor\n",
    "            \n",
    "            distorg = ''\n",
    "            # arbitrarily take the first distributor organization\n",
    "            dist = onlineres.xpath(\"./ancestor::gmd:MD_Distribution/gmd:distributor\",namespaces=NSMAP)[0]\n",
    "            if len(dist.xpath(\"gmd:MD_Distributor//gmd:organisationName\",namespaces=NSMAP)) > 0:\n",
    "                distorg =dist.xpath(\"gmd:MD_Distributor//gmd:organisationName/child::node()/text()\",namespaces=NSMAP)[0]\n",
    "            #print(\"distorg: \" + distorg) \n",
    "            \n",
    "            #  assume all distributors offer all digital transfer options and formats that are child of distribution\n",
    "            thedistformats = onlineres.xpath(\"./ancestor::gmd:MD_DigitalTransferOptions/gmd:distributionFormat\",namespaces=NSMAP)\n",
    "            #get formats specific to the parent gmd:MD_DigitalTransferOptions       \n",
    "            for aformat in thedistformats:\n",
    "                if (( aformat.find(\"gmd:MD_Format/gmd:name/gco:CharacterString\",namespaces=NSMAP) is not None) and\n",
    "                            (aformat.find(\"gmd:MD_Format/gmd:name/gco:CharacterString\",namespaces=NSMAP).text not in formatlist)):\n",
    "                    formatlist.append(aformat.find(\"gmd:MD_Format/gmd:name/gco:CharacterString\",namespaces=NSMAP).text)\n",
    "            \n",
    "            thedistformats = onlineres.xpath(\"./ancestor::gmd:MD_Distribution/gmd:distributionFormat\",namespaces=NSMAP)\n",
    "            #get formats at gmd:MD_Distribution/gmd:distributionFormat; assume these apply to all digital transfer options       \n",
    "            for aformat in thedistformats:\n",
    "                if ((aformat.find(\"gmd:MD_Format/gmd:name/gco:CharacterString\",namespaces=NSMAP) is not None) and\n",
    "                    (aformat.find(\"gmd:MD_Format/gmd:name/gco:CharacterString\",namespaces=NSMAP).text not in formatlist)):\n",
    "                    formatlist.append(aformat.find(\"gmd:MD_Format/gmd:name/gco:CharacterString\",namespaces=NSMAP).text)\n",
    "        \n",
    "        thisdistobj = DistObj(thename)\n",
    "        #thisdistobj.name = thename\n",
    "        #print(\"theName: \" + thename)\n",
    "        thisdistobj.url = theURL\n",
    "        thisdistobj.description = thedescription\n",
    "        thisdistobj.protocol = theprotocol\n",
    "        thisdistobj.appprofile = theappprofile\n",
    "        thisdistobj.functioncode = thefunctioncode\n",
    "        thisdistobj.functiontext = thefunctiontext\n",
    "        thisdistobj.distorg = distorg\n",
    "        thisdistobj.formatlist = formatlist\n",
    "                \n",
    "        distlist.append(thisdistobj)                    \n",
    "\n",
    "    \n",
    "    \n",
    "json_dump_str = json.dumps([theobj.dump() for theobj in distlist])"
   ]
  },
  {
   "cell_type": "code",
   "execution_count": 13,
   "metadata": {},
   "outputs": [],
   "source": [
    "import pandas as pd\n",
    "import numpy as np\n",
    "import re\n",
    "import json\n",
    "from ipywidgets import interact, interactive\n",
    "import ipywidgets as widgets"
   ]
  },
  {
   "cell_type": "markdown",
   "metadata": {},
   "source": [
    "### Setting up Table 1 and 2"
   ]
  },
  {
   "cell_type": "markdown",
   "metadata": {},
   "source": [
    "Building Table 1 (meta data to tokens)"
   ]
  },
  {
   "cell_type": "code",
   "execution_count": 14,
   "metadata": {},
   "outputs": [],
   "source": [
    "#dissect Steve's logic into different levels of queries\n",
    "queries_lvl1 = []\n",
    "#wfs\n",
    "queries_lvl1 += [\"theprotocol.lower().find('wfs')>-1 or theURL.lower().find('service=wfs')>-1\"]\n",
    "#wms\n",
    "queries_lvl1 += [\"theprotocol.lower().find('wms')>-1 or (theURL.lower().find('service=wms')>-1 and theURL.lower().find('request=kml')==-1)\"]\n",
    "#kmlclient\n",
    "queries_lvl1 += [\"thedescription.lower().find('kml download')>-1 or (theURL.lower().find('request=kml')>-1 and theURL.lower().find('mode=download')>-1) or theURL.lower().find('.kml')>-1 or theURL.lower().find('.kmz')>-1\"]\n",
    "#magic\n",
    "queries_lvl1 += [\"(theappprofile.lower().find('pymag')>-1) or (theappprofile.lower().find('magic:tsv:multipart')>-1) or (thename.lower().find('magic multipart tab separated values')>-1 )\"]\n",
    "#webbrowser\n",
    "queries_lvl1 += [\"(theURL.lower().find('.html')>-1 ) or (theURL.lower().find('.pdf')>-1) or (theURL.lower().find('.htm')>-1 ) or (theprotocol.lower().find('http')>-1)\"]\n",
    "#nwis_rdb\n",
    "queries_lvl1 += [\"(theURL.lower().find('/nwis/qwdata')>-1) or (theURL.lower().find('/nwis/gwlevels')>-1) or (theURL.lower().find('/nwis/uv')>-1) or (theURL.lower().find('/nwis/peak')>-1 ) or (theURL.lower().find('/nwis/measurements')>-1)\"]\n",
    "#ndbc_rdb\n",
    "queries_lvl1 += [\"theURL.lower().find('www.ndbc.noaa.gov/view_text_file.php')>-1 \"]\n",
    "\n",
    "# url_mods = []\n",
    "# url_mods += [\"theURL.split('?')[0] + '?service=wfs&request=getCapabilities'\"]\n",
    "# url_mods += [\"theURL.split('?')[0] + '?service=wms&request=getCapabilities'\"]\n",
    "# url_mods += [\"theURL\"]\n",
    "# url_mods += [\"theURL\"]\n",
    "# url_mods += [\"theURL\"]\n",
    "# url_mods += [\"theURL\"]\n",
    "# url_mods += [\"theURL\"]\n",
    "\n",
    "queries_lvl2 = []\n",
    "queries_lvl2 += [\"testurl(theURL.split('?')[0] + '?service=wfs&request=getCapabilities')\"]\n",
    "queries_lvl2 += [\"testurl(theURL.split('?')[0] + '?service=wms&request=getCapabilities')\"]\n",
    "queries_lvl2 += [\"testurl(theURL)\"]*5\n",
    "\n",
    "queries_lvl3 = [\"True\"] * 4\n",
    "queries_lvl3 += [\"(requests.get(theURL).headers['Content-Type'].find('html')>-1)\"]\n",
    "queries_lvl3 += [\"True\"] * 2\n",
    "\n",
    "tokens = ['wfsclient', 'wmsclient', 'kmlclient', 'MAGIC:tsv:multipart', 'webbrowser', 'nwis_rdb', 'ndbc_txt']\n",
    "#tbl_dct = {'lvl1': queries_lvl1, 'url_mods': url_mods, 'lvl2': queries_lvl2, 'lvl3': queries_lvl3, 'token': tokens}\n",
    "tbl_dct = {'lvl1': queries_lvl1, 'lvl2': queries_lvl2, 'lvl3': queries_lvl3, 'token': tokens}\n",
    "token_assignment_df = pd.DataFrame(tbl_dct)\n",
    "#token_assignment_df"
   ]
  },
  {
   "cell_type": "markdown",
   "metadata": {},
   "source": [
    "Getting Table 2"
   ]
  },
  {
   "cell_type": "code",
   "execution_count": 15,
   "metadata": {},
   "outputs": [],
   "source": [
    "token_url_sheet = 'https://docs.google.com/spreadsheet/ccc?key=1jFGjp2_QRT1z2YR4DJZwA-OTaj41zpdkUiX_JxBoISU&gid=123788411&output=csv'\n",
    "token_url_sheet = pd.read_csv(token_url_sheet).replace(np.nan, '')"
   ]
  },
  {
   "cell_type": "markdown",
   "metadata": {},
   "source": [
    "Getting the token-label table"
   ]
  },
  {
   "cell_type": "code",
   "execution_count": 16,
   "metadata": {},
   "outputs": [],
   "source": [
    "def create_desc(row):\n",
    "    return ('label: ' + row['label']) + '\\n' + ('description: ' + row['notes'])\n",
    "desc_sheet_url = 'https://docs.google.com/spreadsheet/ccc?key=1jFGjp2_QRT1z2YR4DJZwA-OTaj41zpdkUiX_JxBoISU&gid=64925624&output=csv'\n",
    "desc_df = pd.read_csv(desc_sheet_url)\n",
    "desc_df['label'] = desc_df['label'].fillna('no label available')\n",
    "desc_df['notes'] = desc_df['notes'].fillna('no description available')\n",
    "desc_df['description'] = desc_df.apply(lambda x: create_desc(x), axis = 1)\n",
    "#desc_df"
   ]
  },
  {
   "cell_type": "code",
   "execution_count": 17,
   "metadata": {},
   "outputs": [],
   "source": [
    "token_desc_all = pd.Series(data = list(desc_df['description'].values), index = list(desc_df['token']))"
   ]
  },
  {
   "cell_type": "markdown",
   "metadata": {},
   "source": [
    "### Taking in an input"
   ]
  },
  {
   "cell_type": "markdown",
   "metadata": {},
   "source": [
    "Replace the value of the json_dump_str with the actual output in the notebook"
   ]
  },
  {
   "cell_type": "code",
   "execution_count": 18,
   "metadata": {},
   "outputs": [],
   "source": [
    "#assume that I have a json string - one similar to that in ShutongCinergiDispatch\n",
    "#this str is the result directly from Steve's ShutongCinergiDispatch notebook\n",
    "#json_dump_str = '[{\"adistobj\": {\"name\": \"Service Description\", \"url\": \"http://web2.nbmg.unr.edu/ArcGIS/services/CO_Data/COActiveFaults/MapServer/WMSServer?request=GetCapabilities&service=WMS\", \"description\": \"parameters:{layers:\\\\\"ActiveFault\\\\\"}\", \"protocol\": \"OGC:WMS\", \"appprofile\": \"\", \"functioncode\": \"381\", \"functiontext\": \"webService\", \"distorg\": \"Colorado Geological Survey\", \"formatlist\": []}}, {\"adistobj\": {\"name\": \"WFS Capabilities\", \"url\": \"http://web2.nbmg.unr.edu/ArcGIS/services/CO_Data/COActiveFaults/MapServer/WFSServer?request=GetCapabilities&service=WFS\", \"description\": \"parameters:{typeName:\\\\\"ActiveFault\\\\\"}\", \"protocol\": \"OGC:WFS\", \"appprofile\": \"\", \"functioncode\": \"381\", \"functiontext\": \"webService\", \"distorg\": \"Colorado Geological Survey\", \"formatlist\": []}}, {\"adistobj\": {\"name\": \"ESRI Service Endpoint\", \"url\": \"http://web2.nbmg.unr.edu/ArcGIS/rest/services/CO_Data/COActiveFaults/MapServer\", \"description\": \"\", \"protocol\": \"ESRI\", \"appprofile\": \"\", \"functioncode\": \"381\", \"functiontext\": \"webService\", \"distorg\": \"Colorado Geological Survey\", \"formatlist\": []}}, {\"adistobj\": {\"name\": \"Zipped Excel Workbook containing Active Faults Data for the State of Colorado\", \"url\": \"http://repository.stategeothermaldata.org/metadata/record/9e15e1a59b768b330d029e86dc1a10a1/file/activefaults_20131011repo.zip\", \"description\": \"\", \"protocol\": \"\", \"appprofile\": \"\", \"functioncode\": \"375\", \"functiontext\": \"download\", \"distorg\": \"Colorado Geological Survey\", \"formatlist\": []}}, {\"adistobj\": {\"name\": \"NGDS RSS feed for services notifications\", \"url\": \"http://notifications.usgin.org/\", \"description\": \"\", \"protocol\": \"\", \"appprofile\": \"\", \"functioncode\": \"375\", \"functiontext\": \"download\", \"distorg\": \"Colorado Geological Survey\", \"formatlist\": []}}]'\n",
    "#load it into json\n",
    "json_list = json.loads(json_dump_str)\n",
    "#transform it into a table (for visualization and as the input for dist_to_tokens)\n",
    "info_list = [dist_obj['adistobj'] for dist_obj in json_list]\n",
    "info_df = pd.DataFrame(info_list)\n",
    "#info_df"
   ]
  },
  {
   "cell_type": "code",
   "execution_count": 19,
   "metadata": {},
   "outputs": [],
   "source": [
    "def dists_to_tokens(json_df, mapping_df):\n",
    "    #type cast the series of sets of tokens into a list of sets of tokens\n",
    "    result = json_df.apply(lambda x: features_to_tokens(x, mapping_df), axis = 1)\n",
    "    dct_lst = list(result)\n",
    "    #return the union of all the sets, since every token in each set is qualified\n",
    "    return dct_lst"
   ]
  },
  {
   "cell_type": "code",
   "execution_count": 20,
   "metadata": {},
   "outputs": [],
   "source": [
    "def features_to_tokens(row, mapping_df):\n",
    "    import requests\n",
    "    def testurl(theurl):\n",
    "        #try HEAD first in case the response document is big\n",
    "        #print('trying ' + theurl)\n",
    "        try:\n",
    "            r = requests.head(theurl)\n",
    "            if (r.status_code != requests.codes.ok):\n",
    "                #check GET in case is an incomplete http implementation\n",
    "                r = requests.get(theurl)\n",
    "                if (r.status_code == requests.codes.ok):\n",
    "                    return True\n",
    "                else:\n",
    "                    return False\n",
    "            else:\n",
    "                return True\n",
    "        except:\n",
    "            return False\n",
    "    \n",
    "    #getting the variables ready\n",
    "    #display(row)\n",
    "    theURL = row['url']\n",
    "    thename = row['name']\n",
    "    thedescription = row['description']\n",
    "    theprotocol = row['protocol']\n",
    "    theappprofile = row['appprofile']\n",
    "    thefunctioncode = row['functioncode']\n",
    "    thefunctiontext = row['functiontext']\n",
    "    #set the scope for the evaluation\n",
    "    test_locals = locals()\n",
    "    \n",
    "    \n",
    "    \n",
    "    #gate1 indicates rows that passes the first level of query\n",
    "    gate1 = mapping_df['lvl1'].apply(lambda x: eval(x, test_locals))\n",
    "    #display(gate1)\n",
    "    #gate2 indicates rows that passes the second level of query\n",
    "    gate2 = mapping_df['lvl2'].apply(lambda x: eval(x, test_locals))\n",
    "    #display(gate2)\n",
    "    #gate3 indicates rows that passes the third level of the query\n",
    "    gate3 = mapping_df['lvl3'].apply(lambda x: eval(x, test_locals))\n",
    "    #display(gate3)\n",
    "    \n",
    "    #the eventual valid path to the token are the intersection of valid rows of the three gates\n",
    "    #display(gate1 & gate2 & gate3)\n",
    "    final_condition = gate1 & gate2 & gate3\n",
    "    \n",
    "    #group the chosen tokens into a set\n",
    "    token_candidates = mapping_df['token'].loc[final_condition]\n",
    "    token_url_dict = {}\n",
    "\n",
    "    \n",
    "    for token in token_candidates:\n",
    "            token_url_dict[token] = theURL\n",
    "    return token_url_dict"
   ]
  },
  {
   "cell_type": "code",
   "execution_count": 21,
   "metadata": {},
   "outputs": [],
   "source": [
    "def combine_dcts(dct_list):\n",
    "    #combining a list of dicts into a single dict, duplicated keys will have their values in a list\n",
    "    combined = {}\n",
    "    for dct in dct_list:\n",
    "        for key in dct.keys():\n",
    "            if key in combined.keys():\n",
    "                combined[key] += [dct[key]]\n",
    "            else:\n",
    "                combined[key] = [dct[key]]\n",
    "    return combined"
   ]
  },
  {
   "cell_type": "code",
   "execution_count": 22,
   "metadata": {},
   "outputs": [],
   "source": [
    "#Running the assignment function - anticlimatic one-liner\n",
    "mapping_results = dists_to_tokens(info_df, token_assignment_df)\n",
    "#mapping_results"
   ]
  },
  {
   "cell_type": "code",
   "execution_count": 23,
   "metadata": {},
   "outputs": [],
   "source": [
    "#combined result\n",
    "token_url = combine_dcts(mapping_results)\n",
    "#token_url"
   ]
  },
  {
   "cell_type": "code",
   "execution_count": 24,
   "metadata": {},
   "outputs": [],
   "source": [
    "token_desc_selected = token_desc_all.loc[list(token_url.keys())].to_dict()"
   ]
  },
  {
   "cell_type": "markdown",
   "metadata": {},
   "source": [
    "## 3. Select an operation to run##"
   ]
  },
  {
   "cell_type": "markdown",
   "metadata": {},
   "source": [
    "### Presenting the menu for token and transfer url selection"
   ]
  },
  {
   "cell_type": "code",
   "execution_count": 25,
   "metadata": {},
   "outputs": [
    {
     "data": {
      "application/vnd.jupyter.widget-view+json": {
       "model_id": "948e7a6c0c574ce2bcc313be5c1f609d",
       "version_major": 2,
       "version_minor": 0
      },
      "text/plain": [
       "Dropdown(options={'wmsclient': 'label: generic OGC wms endpoint\\ndescription: no description available', 'wfsc…"
      ]
     },
     "metadata": {},
     "output_type": "display_data"
    }
   ],
   "source": [
    "token_selection = widgets.Dropdown(options = token_desc_selected)\n",
    "token_selection"
   ]
  },
  {
   "cell_type": "code",
   "execution_count": 26,
   "metadata": {},
   "outputs": [
    {
     "name": "stdout",
     "output_type": "stream",
     "text": [
      "label: generic OGC wfs\n",
      "description: general profile for any OGC WFS 1.0.0, 1.1.0 or 2.0\n"
     ]
    }
   ],
   "source": [
    "#Still needs a better (more interactive) way of showing \n",
    "print(token_selection.value)"
   ]
  },
  {
   "cell_type": "code",
   "execution_count": 27,
   "metadata": {},
   "outputs": [
    {
     "data": {
      "application/vnd.jupyter.widget-view+json": {
       "model_id": "04482410f2894932889041ab3e5e2bd7",
       "version_major": 2,
       "version_minor": 0
      },
      "text/plain": [
       "Dropdown(options=('http://web2.nbmg.unr.edu/ArcGIS/services/CO_Data/COActiveFaults/MapServer/WFSServer?request…"
      ]
     },
     "metadata": {},
     "output_type": "display_data"
    }
   ],
   "source": [
    "url_selection = widgets.Dropdown(options = token_url[token_selection.label])\n",
    "url_selection"
   ]
  },
  {
   "cell_type": "markdown",
   "metadata": {},
   "source": [
    "## 4. Open the URL of the selected notebook ##"
   ]
  },
  {
   "cell_type": "markdown",
   "metadata": {},
   "source": [
    "### Map tokens to url template with table 2\n",
    "* find the url template for the token\n",
    "* insert the distribution url into the template"
   ]
  },
  {
   "cell_type": "code",
   "execution_count": 28,
   "metadata": {},
   "outputs": [],
   "source": [
    "def token_url_template(token_url_df, token, url):\n",
    "    url_template = token_url_df.loc[token_url_df['token'] == token]['Web application URL'].iloc[0]\n",
    "    final_url = re.sub('{.*}', url, url_template)\n",
    "    return final_url"
   ]
  },
  {
   "cell_type": "code",
   "execution_count": 29,
   "metadata": {},
   "outputs": [
    {
     "name": "stdout",
     "output_type": "stream",
     "text": [
      "If browser fails to redirect...\n",
      "notebook link (click to open): \n",
      "http://suave-jupyterhub.com/user/zeppelin-v/notebooks/DispatchTesting/WFSprocessor.ipynb?endpoint=http://web2.nbmg.unr.edu/ArcGIS/services/CO_Data/COActiveFaults/MapServer/WFSServer?request=GetCapabilities&service=WFS\n"
     ]
    }
   ],
   "source": [
    "token = token_selection.label\n",
    "dataurl = url_selection.value\n",
    "result_url = token_url_template(token_url_sheet, token, dataurl)\n",
    "webbrowser.open_new(result_url)\n",
    "print(\"If browser fails to redirect...\\nnotebook link (click to open): \" + '\\n' + result_url)"
   ]
  },
  {
   "cell_type": "markdown",
   "metadata": {},
   "source": [
    "--------------------------------------------------"
   ]
  },
  {
   "cell_type": "markdown",
   "metadata": {},
   "source": [
    "# Some extra functionality (still working on) (no idea where to plug this)"
   ]
  },
  {
   "cell_type": "code",
   "execution_count": null,
   "metadata": {},
   "outputs": [],
   "source": [
    "#possibly record the reason for not passing a gate\n",
    "#need to decide where to insert this extra information\n",
    "#TO-DO\n",
    "def determine_results(result_df):\n",
    "    if result_df.apply(lambda x: x.all(), axis = 1).any():\n",
    "        return 'success'\n",
    "    elif result_df.apply(lambda x: x['lvl1'] and x['lvl2'] and not x['lvl3'], axis = 1).any():\n",
    "        return 'not a valid web-page (failed to evoke web browser option)'\n",
    "    elif result_df.apply(lambda x: x['lvl1'] and not x['lvl2'], axis = 1).any():\n",
    "        return 'server request error (testURL failed)'\n",
    "    else:\n",
    "        return 'failure (did not make it pass initial screening)'"
   ]
  },
  {
   "cell_type": "code",
   "execution_count": null,
   "metadata": {
    "scrolled": false
   },
   "outputs": [],
   "source": [
    "result_df = pd.DataFrame(\n",
    "    {'lvl1': [False, True, True, True], 'lvl2': [True, True, True, False], 'lvl3': [True, True, False, True]})\n",
    "result_df"
   ]
  },
  {
   "cell_type": "code",
   "execution_count": null,
   "metadata": {},
   "outputs": [],
   "source": []
  }
 ],
 "metadata": {
  "kernelspec": {
   "display_name": "Python 3",
   "language": "python",
   "name": "python3"
  },
  "language_info": {
   "codemirror_mode": {
    "name": "ipython",
    "version": 3
   },
   "file_extension": ".py",
   "mimetype": "text/x-python",
   "name": "python",
   "nbconvert_exporter": "python",
   "pygments_lexer": "ipython3",
   "version": "3.6.8"
  }
 },
 "nbformat": 4,
 "nbformat_minor": 2
}
