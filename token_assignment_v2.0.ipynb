{
 "cells": [
  {
   "cell_type": "code",
   "execution_count": 1,
   "metadata": {},
   "outputs": [],
   "source": [
    "import pandas as pd\n",
    "import numpy as np"
   ]
  },
  {
   "cell_type": "code",
   "execution_count": 43,
   "metadata": {},
   "outputs": [],
   "source": [
    "import requests\n",
    "def testurl(theurl):\n",
    "    #try HEAD first in case the response document is big\n",
    "    #print('trying ' + theurl)\n",
    "    try:\n",
    "        r = requests.head(theurl)\n",
    "        if (r.status_code != requests.codes.ok):\n",
    "            #check GET in case is an incomplete http implementation\n",
    "            r = requests.get(theurl)\n",
    "            if (r.status_code == requests.codes.ok):\n",
    "                return True\n",
    "            else:\n",
    "                return False\n",
    "        else:\n",
    "            return True\n",
    "    except:\n",
    "        return False"
   ]
  },
  {
   "cell_type": "code",
   "execution_count": 3,
   "metadata": {},
   "outputs": [],
   "source": [
    "# def testtoken_magic(dist):\n",
    "#     #import testurl# this function tests to see if the URL is live (returns a 200)\n",
    "#     #check for MagIC paleomagnetic database text file\n",
    "#     #print('Magic' + theappprofile + ', ' + thename)\n",
    "#     appprofile = dist.appprofile\n",
    "#     name = dist.name\n",
    "#     url = dist.url\n",
    "#     if ((appprofile.lower().find('pymag')>-1) or\n",
    "#        (appprofile.lower().find('magic:tsv:multipart')>-1) or\n",
    "#        (name.lower().find('magic multipart tab separated values')>-1 )):\n",
    "#         if testurl(url):\n",
    "#             return {\"MAGIC:tsv:multipart\": {\"url\":url, \"name\": name}}\n",
    "#         else:\n",
    "#             return {}\n",
    "#     else:\n",
    "#         return {}"
   ]
  },
  {
   "cell_type": "code",
   "execution_count": 4,
   "metadata": {},
   "outputs": [],
   "source": [
    "# def testtoken_nwis_rdb(dist):\n",
    "#     #import testurl # this function tests to see if the URL is live (returns a 200)\n",
    "#     # nwis rdb data\n",
    "#     url = dist.url\n",
    "#     name = dist.name\n",
    "    \n",
    "#     if ((url.lower().find('/nwis/qwdata')>-1 )\n",
    "#         or (url.lower().find('/nwis/gwlevels')>-1 )\n",
    "#         or (url.lower().find('/nwis/uv')>-1 )\n",
    "#         or (url.lower().find('/nwis/peak')>-1 )\n",
    "#         or (url.lower().find('/nwis/measurements')>-1)):\n",
    "#     # NWIS time series in rdb text file format\n",
    "#         if testurl(aURL):\n",
    "#             return {\"nwis_rdb\": {\"url\":url, \"name\": name}}\n",
    "#         else:\n",
    "#             return {}\n",
    "#     else:\n",
    "#         return {}"
   ]
  },
  {
   "cell_type": "code",
   "execution_count": 5,
   "metadata": {},
   "outputs": [],
   "source": [
    "# def testtoken_wfs(dist):\n",
    "#     #import testurl as testurl  # this function tests to see if the URL is live (returns a 200)\n",
    "#     #check for OGC WFS Web feature service\n",
    "#     url = dist.url\n",
    "#     protocol = dist.protocol\n",
    "#     name = dist.name\n",
    "#     if (protocol.lower().find('wfs')>-1 or\n",
    "#        url.lower().find('service=wfs')>-1):       \n",
    "#         # append to dispatchlist\n",
    "#         # wfs disptacher gets the base URL for the service\n",
    "#         #check if service is responding\n",
    "#         tryurl=url.split('?')[0] + '?service=wfs&request=getCapabilities'\n",
    "#         if testurl(tryurl):\n",
    "#             return{\"wfsclient\": {\"url\":url.split('?')[0], \"name\":name}}\n",
    "#         else:\n",
    "#             return {}\n",
    "#     else:\n",
    "#         return {}     "
   ]
  },
  {
   "cell_type": "code",
   "execution_count": 6,
   "metadata": {},
   "outputs": [],
   "source": [
    "# def testtoken_tsv(dist):\n",
    "#     #import testurl # this function tests to see if the URL is live (returns a 200)\n",
    "#     url = dist.url\n",
    "#     name = dist.name\n",
    "#     if (url.lower().find('www.ndbc.noaa.gov/view_text_file.php')>-1 ):\n",
    "#         if testurl(url):\n",
    "#             return {\"NDBC-tsv\": {\"url\":url, 'name': name}}\n",
    "#         else:\n",
    "#             return {}\n",
    "#     else:\n",
    "#         return {}\n",
    "                         \n"
   ]
  },
  {
   "cell_type": "markdown",
   "metadata": {},
   "source": [
    "TO-DO:\n",
    "<br>\n",
    "change the return type of the function to a dictionary with keys of the value of tokens and values of dictionarys with keys of attribute name and values of attribute value"
   ]
  },
  {
   "cell_type": "code",
   "execution_count": 13,
   "metadata": {},
   "outputs": [],
   "source": [
    "token_logic = pd.read_csv('token_logic.csv')\n",
    "token_logic['TestCode'] = token_logic['TestCode'].fillna('def f(): return {}')"
   ]
  },
  {
   "cell_type": "code",
   "execution_count": 14,
   "metadata": {},
   "outputs": [
    {
     "data": {
      "text/html": [
       "<div>\n",
       "<style scoped>\n",
       "    .dataframe tbody tr th:only-of-type {\n",
       "        vertical-align: middle;\n",
       "    }\n",
       "\n",
       "    .dataframe tbody tr th {\n",
       "        vertical-align: top;\n",
       "    }\n",
       "\n",
       "    .dataframe thead th {\n",
       "        text-align: right;\n",
       "    }\n",
       "</style>\n",
       "<table border=\"1\" class=\"dataframe\">\n",
       "  <thead>\n",
       "    <tr style=\"text-align: right;\">\n",
       "      <th></th>\n",
       "      <th>token</th>\n",
       "      <th>label</th>\n",
       "      <th>notes</th>\n",
       "      <th>TestCode</th>\n",
       "      <th>applies to</th>\n",
       "    </tr>\n",
       "  </thead>\n",
       "  <tbody>\n",
       "    <tr>\n",
       "      <th>0</th>\n",
       "      <td>MAGIC:tsv:multipart</td>\n",
       "      <td>MAGIC tab delimited text format.</td>\n",
       "      <td>NaN</td>\n",
       "      <td>def testtoken_magic(dist):\\r\\n    #import test...</td>\n",
       "      <td>Software, Data Distribution</td>\n",
       "    </tr>\n",
       "    <tr>\n",
       "      <th>1</th>\n",
       "      <td>OWL-v2-rdf/xml</td>\n",
       "      <td>NaN</td>\n",
       "      <td>Protege will open owl or rdf files encoded in ...</td>\n",
       "      <td>def f(): return {}</td>\n",
       "      <td>ontology, data distribution</td>\n",
       "    </tr>\n",
       "    <tr>\n",
       "      <th>2</th>\n",
       "      <td>NWIS-rdb</td>\n",
       "      <td>NWIS tsv</td>\n",
       "      <td>Generic NWIS rdb file</td>\n",
       "      <td>def testtoken_nwis_rdb(dist):\\r\\n    #import t...</td>\n",
       "      <td>Software, Data Distribution</td>\n",
       "    </tr>\n",
       "    <tr>\n",
       "      <th>3</th>\n",
       "      <td>NWIS-rdb-uv</td>\n",
       "      <td>NWIS current data</td>\n",
       "      <td>Standard rdb text document with current data. ...</td>\n",
       "      <td>def f(): return {}</td>\n",
       "      <td>Software, Data Distribution</td>\n",
       "    </tr>\n",
       "    <tr>\n",
       "      <th>4</th>\n",
       "      <td>wfsclient</td>\n",
       "      <td>generic OGC wfs</td>\n",
       "      <td>general profile for any OGC WFS 1.0.0, 1.1.0 o...</td>\n",
       "      <td>def testtoken_wfs(dist):\\r\\n    #import testur...</td>\n",
       "      <td>Software, API, Data Distribution</td>\n",
       "    </tr>\n",
       "    <tr>\n",
       "      <th>5</th>\n",
       "      <td>NDBC-tsv</td>\n",
       "      <td>National Data Bouy Center tab delimited format</td>\n",
       "      <td>For software, indicates that files can be open...</td>\n",
       "      <td>def testtoken_tsv(dist):\\r\\n    #import testur...</td>\n",
       "      <td>Software, Data Distribution</td>\n",
       "    </tr>\n",
       "    <tr>\n",
       "      <th>6</th>\n",
       "      <td>kmlclient2.3</td>\n",
       "      <td>ConformsTo kml or kmz v2.3</td>\n",
       "      <td>For software, indicates that files in KML or K...</td>\n",
       "      <td>def f(): return {}</td>\n",
       "      <td>Software, Data Distribution</td>\n",
       "    </tr>\n",
       "    <tr>\n",
       "      <th>7</th>\n",
       "      <td>wmsclient</td>\n",
       "      <td>Implements OGC WMS</td>\n",
       "      <td>This token is used to indicate a client applic...</td>\n",
       "      <td>def f(): return {}</td>\n",
       "      <td>Software, API, data distribution</td>\n",
       "    </tr>\n",
       "    <tr>\n",
       "      <th>8</th>\n",
       "      <td>wmsclient1.1.1</td>\n",
       "      <td>Implements OGC v1.1.1 WMS only</td>\n",
       "      <td>This token is used to indicate a client applic...</td>\n",
       "      <td>def f(): return {}</td>\n",
       "      <td>Software, API, data distribution</td>\n",
       "    </tr>\n",
       "    <tr>\n",
       "      <th>9</th>\n",
       "      <td>wmsclient1.3.0</td>\n",
       "      <td>Implements OGC v1.3.0 WMS only</td>\n",
       "      <td>This token is used to indicate a client applic...</td>\n",
       "      <td>def f(): return {}</td>\n",
       "      <td>Software, API, data distribution</td>\n",
       "    </tr>\n",
       "  </tbody>\n",
       "</table>\n",
       "</div>"
      ],
      "text/plain": [
       "                 token                                           label  \\\n",
       "0  MAGIC:tsv:multipart               MAGIC tab delimited text format.    \n",
       "1       OWL-v2-rdf/xml                                             NaN   \n",
       "2             NWIS-rdb                                        NWIS tsv   \n",
       "3          NWIS-rdb-uv                               NWIS current data   \n",
       "4            wfsclient                                 generic OGC wfs   \n",
       "5             NDBC-tsv  National Data Bouy Center tab delimited format   \n",
       "6         kmlclient2.3                      ConformsTo kml or kmz v2.3   \n",
       "7            wmsclient                              Implements OGC WMS   \n",
       "8       wmsclient1.1.1                  Implements OGC v1.1.1 WMS only   \n",
       "9       wmsclient1.3.0                  Implements OGC v1.3.0 WMS only   \n",
       "\n",
       "                                               notes  \\\n",
       "0                                                NaN   \n",
       "1  Protege will open owl or rdf files encoded in ...   \n",
       "2                              Generic NWIS rdb file   \n",
       "3  Standard rdb text document with current data. ...   \n",
       "4  general profile for any OGC WFS 1.0.0, 1.1.0 o...   \n",
       "5  For software, indicates that files can be open...   \n",
       "6  For software, indicates that files in KML or K...   \n",
       "7  This token is used to indicate a client applic...   \n",
       "8  This token is used to indicate a client applic...   \n",
       "9  This token is used to indicate a client applic...   \n",
       "\n",
       "                                            TestCode  \\\n",
       "0  def testtoken_magic(dist):\\r\\n    #import test...   \n",
       "1                                 def f(): return {}   \n",
       "2  def testtoken_nwis_rdb(dist):\\r\\n    #import t...   \n",
       "3                                 def f(): return {}   \n",
       "4  def testtoken_wfs(dist):\\r\\n    #import testur...   \n",
       "5  def testtoken_tsv(dist):\\r\\n    #import testur...   \n",
       "6                                 def f(): return {}   \n",
       "7                                 def f(): return {}   \n",
       "8                                 def f(): return {}   \n",
       "9                                 def f(): return {}   \n",
       "\n",
       "                         applies to  \n",
       "0       Software, Data Distribution  \n",
       "1       ontology, data distribution  \n",
       "2       Software, Data Distribution  \n",
       "3       Software, Data Distribution  \n",
       "4  Software, API, Data Distribution  \n",
       "5       Software, Data Distribution  \n",
       "6       Software, Data Distribution  \n",
       "7  Software, API, data distribution  \n",
       "8  Software, API, data distribution  \n",
       "9  Software, API, data distribution  "
      ]
     },
     "execution_count": 14,
     "metadata": {},
     "output_type": "execute_result"
    }
   ],
   "source": [
    "token_logic"
   ]
  },
  {
   "cell_type": "code",
   "execution_count": 15,
   "metadata": {},
   "outputs": [],
   "source": [
    "for code in token_logic['TestCode']:\n",
    "    exec(code)"
   ]
  },
  {
   "cell_type": "code",
   "execution_count": 16,
   "metadata": {},
   "outputs": [
    {
     "data": {
      "text/plain": [
       "<function __main__.testtoken_magic>"
      ]
     },
     "execution_count": 16,
     "metadata": {},
     "output_type": "execute_result"
    }
   ],
   "source": [
    "testtoken_magic"
   ]
  },
  {
   "cell_type": "code",
   "execution_count": 25,
   "metadata": {},
   "outputs": [],
   "source": [
    "f_list = [testtoken_magic, testtoken_wfs, testtoken_nwis_rdb, testtoken_tsv]"
   ]
  },
  {
   "cell_type": "markdown",
   "metadata": {},
   "source": [
    "# Existing codes"
   ]
  },
  {
   "cell_type": "code",
   "execution_count": 26,
   "metadata": {},
   "outputs": [
    {
     "data": {
      "application/javascript": [
       "function getQueryStringValue (key)\n",
       "{  \n",
       "    return unescape(window.location.search.replace(new RegExp(\"^(?:.*[&\\\\?]\" + escape(key).replace(/[\\.\\+\\*]/g, \"\\\\$&\") + \"(?:\\\\=([^&]*))?)?.*$\", \"i\"), \"$1\"));\n",
       "}\n",
       "IPython.notebook.kernel.execute(\"documentID='\".concat(getQueryStringValue(\"documentId\")).concat(\"'\"));\n",
       "IPython.notebook.kernel.execute(\"user='\".concat(getQueryStringValue(\"user\")).concat(\"'\"));\n",
       "IPython.notebook.kernel.execute(\"full_notebook_url='\" + window.location + \"'\"); "
      ],
      "text/plain": [
       "<IPython.core.display.Javascript object>"
      ]
     },
     "metadata": {},
     "output_type": "display_data"
    }
   ],
   "source": [
    "%%javascript\n",
    "function getQueryStringValue (key)\n",
    "{  \n",
    "    return unescape(window.location.search.replace(new RegExp(\"^(?:.*[&\\\\?]\" + escape(key).replace(/[\\.\\+\\*]/g, \"\\\\$&\") + \"(?:\\\\=([^&]*))?)?.*$\", \"i\"), \"$1\"));\n",
    "}\n",
    "IPython.notebook.kernel.execute(\"documentID='\".concat(getQueryStringValue(\"documentId\")).concat(\"'\"));\n",
    "IPython.notebook.kernel.execute(\"user='\".concat(getQueryStringValue(\"user\")).concat(\"'\"));\n",
    "IPython.notebook.kernel.execute(\"full_notebook_url='\" + window.location + \"'\"); "
   ]
  },
  {
   "cell_type": "code",
   "execution_count": 27,
   "metadata": {
    "scrolled": true
   },
   "outputs": [
    {
     "name": "stdout",
     "output_type": "stream",
     "text": [
      "Requirement already satisfied: lxml in /opt/conda/lib/python3.6/site-packages (4.3.4)\r\n"
     ]
    }
   ],
   "source": [
    "!pip install lxml"
   ]
  },
  {
   "cell_type": "code",
   "execution_count": 34,
   "metadata": {},
   "outputs": [],
   "source": [
    "from __future__ import print_function\n",
    "import ntpath\n",
    "from ipywidgets import interact, interactive, fixed, interact_manual\n",
    "import ipywidgets as widgets\n",
    "import webbrowser\n",
    "from lxml import etree  #supposed to be better than xml.etree\n",
    "import json\n",
    "import pandas as pd\n",
    "from __future__ import print_function\n",
    "from ipywidgets import interact, interactive, fixed, interact_manual\n",
    "import ipywidgets as widgets\n",
    "import requests"
   ]
  },
  {
   "cell_type": "code",
   "execution_count": 35,
   "metadata": {},
   "outputs": [],
   "source": [
    "sample_id = 'e3619c5df2644204b67f51f48525a0b1'\n",
    "documentID = sample_id\n",
    "\n",
    "from __future__ import print_function\n",
    "import ntpath\n",
    "from ipywidgets import interact, interactive, fixed, interact_manual\n",
    "import ipywidgets as widgets\n",
    "import webbrowser\n",
    "url_partitioned = full_notebook_url.partition('/CinergiDispatch')\n",
    "base_url = url_partitioned[0];\n",
    "\n",
    "\n"
   ]
  },
  {
   "cell_type": "code",
   "execution_count": 36,
   "metadata": {},
   "outputs": [
    {
     "name": "stdout",
     "output_type": "stream",
     "text": [
      "User:  \n",
      "DocumentID:  e3619c5df2644204b67f51f48525a0b1\n",
      "Full notebook URL:  https://datahub.ucsd.edu/user/shl636/notebooks/Cinergi_testings/Detect_functions.ipynb\n"
     ]
    }
   ],
   "source": [
    "print(\"User: \",user)\n",
    "print(\"DocumentID: \", documentID)\n",
    "print(\"Full notebook URL: \", full_notebook_url)\n"
   ]
  },
  {
   "cell_type": "code",
   "execution_count": 37,
   "metadata": {},
   "outputs": [
    {
     "name": "stdout",
     "output_type": "stream",
     "text": [
      "metadata URL:  http://datadiscoverystudio.org/geoportal/rest/metadata/item/e3619c5df2644204b67f51f48525a0b1/xml\n"
     ]
    }
   ],
   "source": [
    "NSMAP = {\"gmi\":\"http://www.isotc211.org/2005/gmi\" ,\n",
    "    \"gco\":\"http://www.isotc211.org/2005/gco\" ,\n",
    "    \"gmd\":\"http://www.isotc211.org/2005/gmd\" ,\n",
    "    \"gml\":\"http://www.opengis.net/gml\" ,\n",
    "    \"gmx\":\"http://www.isotc211.org/2005/gmx\" ,\n",
    "    \"gts\":\"http://www.isotc211.org/2005/gts\" ,\n",
    "    \"srv\":\"http://www.isotc211.org/2005/srv\" ,\n",
    "    \"xlink\":\"http://www.w3.org/1999/xlink\"}\n",
    "\n",
    "#construct url for metadata\n",
    "catalogURL = \"http://datadiscoverystudio.org/geoportal/\"\n",
    "metadataURLx=catalogURL + 'rest/metadata/item/' + documentID + '/xml'\n",
    "#metadata = requests.get(metadataURLx)\n",
    "\n",
    "print(\"metadata URL: \", metadataURLx)\n",
    "\n",
    "#tree is an element tree\n",
    "tree = etree.parse(metadataURLx)\n",
    "#root = etree.tostring(tree.getroot())\n",
    "root = tree.getroot()\n",
    "docinfo = tree.docinfo"
   ]
  },
  {
   "cell_type": "code",
   "execution_count": 38,
   "metadata": {},
   "outputs": [],
   "source": [
    "class DistObj:\n",
    "    def __init__(self,aname):\n",
    "        self.name = aname\n",
    "        self.url = ''\n",
    "        self.description = ''\n",
    "        self.protocol = ''\n",
    "        self.appprofile = ''\n",
    "        self.functioncode = ''\n",
    "        self.functiontext = ''\n",
    "        self.distorg = ''\n",
    "        self.formatlist = []\n",
    "        \n",
    "    def dump(self):\n",
    "        return {\"adistobj\": {'name': self.name,\n",
    "                               'url': self.url,\n",
    "                               'description': self.description,\n",
    "                               'protocol': self.protocol,\n",
    "                                'appprofile': self.appprofile,\n",
    "                               'functioncode': self.functioncode,\n",
    "                               'functiontext': self.functiontext,\n",
    "                               'distorg': self.distorg,\n",
    "                               'formatlist' : self.formatlist                            \n",
    "                             }}"
   ]
  },
  {
   "cell_type": "code",
   "execution_count": 44,
   "metadata": {},
   "outputs": [],
   "source": [
    "distlist=[]  # this will be a list of distribution objects\n",
    "\n",
    "# plan -- iterate over the CI_OnlineResource Elements that are in MD_DigitalTransfer Options\n",
    "for  elt in tree.getiterator(\"{http://www.isotc211.org/2005/gmd}MD_DigitalTransferOptions\"):\n",
    "    # only want OnlineResources that are in distribution//MD_DigitalTransferOptions\n",
    "    #  TBD-- figure out what to do with CI_OnlineResource inside SV_OperationMetadata\n",
    "    \n",
    "#iterate through CI_OnlineResource elements\n",
    "    for onlineres in elt.getiterator(\"{http://www.isotc211.org/2005/gmd}CI_OnlineResource\"):\n",
    "        \n",
    "        if ((onlineres.find(\"gmd:linkage/gmd:URL\",namespaces=NSMAP) is not None) and\n",
    "            (onlineres.find(\"gmd:linkage/gmd:URL\",namespaces=NSMAP).text is not None)  ):\n",
    "            theURL=onlineres.find(\"gmd:linkage/gmd:URL\",namespaces=NSMAP).text\n",
    "        else:\n",
    "            theURL = 'empty'\n",
    "        \n",
    "        #print('theURL ' + theURL + '\\n')\n",
    "        \n",
    "        if (onlineres.find(\"gmd:name/gco:CharacterString\",namespaces=NSMAP) is not None):\n",
    "            thename=onlineres.find(\"gmd:name/gco:CharacterString\",namespaces=NSMAP).text\n",
    "        else:\n",
    "            thename=''\n",
    "        \n",
    "        if (onlineres.find(\"gmd:description/gco:CharacterString\",namespaces=NSMAP) is not None):\n",
    "            thedescription=onlineres.find(\"gmd:description/gco:CharacterString\",namespaces=NSMAP).text\n",
    "        else:\n",
    "            thedescription=''\n",
    "            \n",
    "        if (onlineres.find(\"gmd:protocol/gco:CharacterString\",namespaces=NSMAP) is not None):\n",
    "            theprotocol=onlineres.find(\"gmd:protocol/gco:CharacterString\",namespaces=NSMAP).text\n",
    "        else:\n",
    "            theprotocol=''\n",
    "        \n",
    "        if (onlineres.find(\"gmd:applicationProfile/gco:CharacterString\",namespaces=NSMAP) is not None):\n",
    "            theappprofile=onlineres.find(\"gmd:applicationProfile/gco:CharacterString\",namespaces=NSMAP).text\n",
    "        else:\n",
    "            theappprofile=''\n",
    "            \n",
    "        if (onlineres.find(\"gmd:function/gmd:CI_OnLineFunctionCode\",namespaces=NSMAP) is not None):\n",
    "            thefunctioncode=onlineres.find(\"gmd:function/gmd:CI_OnLineFunctionCode\",namespaces=NSMAP).get(\"codeListValue\")\n",
    "        else:\n",
    "            thefunctioncode=''\n",
    "            \n",
    "        if (onlineres.find(\"gmd:function/gmd:CI_OnLineFunctionCode\",namespaces=NSMAP) is not None):    \n",
    "            thefunctiontext=onlineres.find(\"gmd:function/gmd:CI_OnLineFunctionCode\",namespaces=NSMAP).text\n",
    "        else:\n",
    "            thefunctiontext=''\n",
    "            \n",
    "        #print('\\n Distribution: name-%s;\\n  url- %s; \\n  description--%s; \\n   protocol-%s, app profile- %s; function- %s; %s' %\n",
    "        #      (thename,theURL,thedescription,theprotocol,theappprofile,thefunctioncode,thefunctiontext))\n",
    "\n",
    "        #Handle format and distributor organization\n",
    "# have to figure out who is the distributor\n",
    "#check to see if have multiple distributors, if so they should have distributor formats and transfer options\n",
    "#   if they don't then assume all formats apply to all distributions\n",
    "        formatlist = []  #initialize\n",
    "\n",
    "        if len(onlineres.xpath(\"./ancestor::gmd:MD_Distribution/gmd:distributor\",namespaces=NSMAP)) <= 1:\n",
    "     #have zero or one distributor; \n",
    "            distorg = ''\n",
    "            if len(onlineres.xpath(\"./ancestor::gmd:MD_Distribution/gmd:distributor\",namespaces=NSMAP)) == 1:\n",
    "                dist = onlineres.xpath(\"./ancestor::gmd:MD_Distribution/gmd:distributor\",namespaces=NSMAP)[0]\n",
    "                if len(dist.xpath(\"gmd:MD_Distributor//gmd:organisationName\",namespaces=NSMAP)) > 0:\n",
    "                    distorg =dist.xpath(\"gmd:MD_Distributor//gmd:organisationName/child::node()/text()\",namespaces=NSMAP)[0]\n",
    "            #print(\"distorg: \" + distorg)                        \n",
    "    #get formats. Formats might be on Distribution, Distributor, or DigitalTransferOption\n",
    "            thedistformats = onlineres.xpath(\"./ancestor::gmd:MD_Distribution/gmd:distributionFormat\",namespaces=NSMAP)\n",
    "            #get formats at gmd:MD_Distribution/gmd:distributionFormat/gmd:MD_Format       \n",
    "            for aformat in thedistformats:\n",
    "                if ((aformat.find(\"gmd:MD_Format/gmd:name/gco:CharacterString\",namespaces=NSMAP) is not None) and\n",
    "                    (aformat.find(\"gmd:MD_Format/gmd:name/gco:CharacterString\",namespaces=NSMAP).text not in formatlist)):\n",
    "                    formatlist.append(aformat.find(\"gmd:MD_Format/gmd:name/gco:CharacterString\",namespaces=NSMAP).text)\n",
    "\n",
    "            thedistformats = onlineres.xpath(\"./ancestor::gmd:MD_DigitalTransferOptions/gmd:distributionFormat\",namespaces=NSMAP)\n",
    "            #get formats on the parent gmd:MD_DigitalTransferOptions       \n",
    "            for aformat in thedistformats:\n",
    "                if (( aformat.find(\"gmd:MD_Format/gmd:name/gco:CharacterString\",namespaces=NSMAP) is not None) and\n",
    "                            (aformat.find(\"gmd:MD_Format/gmd:name/gco:CharacterString\",namespaces=NSMAP).text not in formatlist)):\n",
    "                    formatlist.append(aformat.find(\"gmd:MD_Format/gmd:name/gco:CharacterString\",namespaces=NSMAP).text)\n",
    "\n",
    "\n",
    "            thedistformats = onlineres.xpath(\"./ancestor::gmd:MD_Distribution//gmd:distributorFormat\",namespaces=NSMAP)\n",
    "            #get formats on the gmd:MD_Distributor; the transfer options might not be child of distributor    \n",
    "            for aformat in thedistformats:\n",
    "                if ((aformat.find(\"gmd:MD_Format/gmd:name/gco:CharacterString\",namespaces=NSMAP) is not None) and\n",
    "                       (aformat.find(\"gmd:MD_Format/gmd:name/gco:CharacterString\",namespaces=NSMAP).text in formatlist)):\n",
    "                    formatlist.append(aformat.find(\"gmd:MD_Format/gmd:name/gco:CharacterString\",namespaces=NSMAP).text)\n",
    "  \n",
    "        elif len(onlineres.xpath(\"./ancestor::gmd:MD_Distributor\",namespaces=NSMAP)) == 1:\n",
    "            #MD_DigitalTransferOptions is child of MD_Distributor; there are multiple distributors\n",
    "            distorg = ''\n",
    "            dist = onlineres.xpath(\"./ancestor::gmd:MD_Distributor\",namespaces=NSMAP)[0]\n",
    "            if len(dist.xpath(\"gmd:distributorContact//gmd:organisationName\",namespaces=NSMAP)) > 0:\n",
    "                distorg =dist.xpath(\"gmd:distributorContact//gmd:organisationName/child::node()/text()\",namespaces=NSMAP)[0]\n",
    "            #print(\"distorg: \" + distorg) \n",
    "            \n",
    "            \n",
    "            #check if they have distributorFormat \n",
    "            thedistformats = onlineres.xpath(\"./ancestor::gmd:MD_Distributor/gmd:distributorFormat\",namespaces=NSMAP)\n",
    "            #get formats on the gmd:MD_Distributor; note in this case look for specific distributor that is parent \n",
    "            #   of the digital transfer options/online resource.\n",
    "            for aformat in thedistformats:\n",
    "                if ((aformat.find(\"gmd:MD_Format/gmd:name/gco:CharacterString\",namespaces=NSMAP) is not None) and\n",
    "                       (aformat.find(\"gmd:MD_Format/gmd:name/gco:CharacterString\",namespaces=NSMAP).text in formatlist)):\n",
    "                    formatlist.append(aformat.find(\"gmd:MD_Format/gmd:name/gco:CharacterString\",namespaces=NSMAP).text)\n",
    "                    \n",
    "                    \n",
    "            thedistformats = onlineres.xpath(\"./ancestor::gmd:MD_DigitalTransferOptions/gmd:distributionFormat\",namespaces=NSMAP)\n",
    "            #get formats specific to the parent gmd:MD_DigitalTransferOptions       \n",
    "            for aformat in thedistformats:\n",
    "                if (( aformat.find(\"gmd:MD_Format/gmd:name/gco:CharacterString\",namespaces=NSMAP) is not None) and\n",
    "                            (aformat.find(\"gmd:MD_Format/gmd:name/gco:CharacterString\",namespaces=NSMAP).text not in formatlist)):\n",
    "                    formatlist.append(aformat.find(\"gmd:MD_Format/gmd:name/gco:CharacterString\",namespaces=NSMAP).text)\n",
    "            \n",
    "            thedistformats = onlineres.xpath(\"./ancestor::gmd:MD_Distribution/gmd:distributionFormat\",namespaces=NSMAP)\n",
    "            #get formats at gmd:MD_Distribution/gmd:distributionFormat; assume these apply to all digital transfer options       \n",
    "            for aformat in thedistformats:\n",
    "                if ((aformat.find(\"gmd:MD_Format/gmd:name/gco:CharacterString\",namespaces=NSMAP) is not None) and\n",
    "                    (aformat.find(\"gmd:MD_Format/gmd:name/gco:CharacterString\",namespaces=NSMAP).text not in formatlist)):\n",
    "                    formatlist.append(aformat.find(\"gmd:MD_Format/gmd:name/gco:CharacterString\",namespaces=NSMAP).text)\n",
    "                    \n",
    "        else:\n",
    "            # multiple distributors, but digital transfer options are not associated with specific distributor\n",
    "            \n",
    "            distorg = ''\n",
    "            # arbitrarily take the first distributor organization\n",
    "            dist = onlineres.xpath(\"./ancestor::gmd:MD_Distribution/gmd:distributor\",namespaces=NSMAP)[0]\n",
    "            if len(dist.xpath(\"gmd:MD_Distributor//gmd:organisationName\",namespaces=NSMAP)) > 0:\n",
    "                distorg =dist.xpath(\"gmd:MD_Distributor//gmd:organisationName/child::node()/text()\",namespaces=NSMAP)[0]\n",
    "            #print(\"distorg: \" + distorg) \n",
    "            \n",
    "            #  assume all distributors offer all digital transfer options and formats that are child of distribution\n",
    "            thedistformats = onlineres.xpath(\"./ancestor::gmd:MD_DigitalTransferOptions/gmd:distributionFormat\",namespaces=NSMAP)\n",
    "            #get formats specific to the parent gmd:MD_DigitalTransferOptions       \n",
    "            for aformat in thedistformats:\n",
    "                if (( aformat.find(\"gmd:MD_Format/gmd:name/gco:CharacterString\",namespaces=NSMAP) is not None) and\n",
    "                            (aformat.find(\"gmd:MD_Format/gmd:name/gco:CharacterString\",namespaces=NSMAP).text not in formatlist)):\n",
    "                    formatlist.append(aformat.find(\"gmd:MD_Format/gmd:name/gco:CharacterString\",namespaces=NSMAP).text)\n",
    "            \n",
    "            thedistformats = onlineres.xpath(\"./ancestor::gmd:MD_Distribution/gmd:distributionFormat\",namespaces=NSMAP)\n",
    "            #get formats at gmd:MD_Distribution/gmd:distributionFormat; assume these apply to all digital transfer options       \n",
    "            for aformat in thedistformats:\n",
    "                if ((aformat.find(\"gmd:MD_Format/gmd:name/gco:CharacterString\",namespaces=NSMAP) is not None) and\n",
    "                    (aformat.find(\"gmd:MD_Format/gmd:name/gco:CharacterString\",namespaces=NSMAP).text not in formatlist)):\n",
    "                    formatlist.append(aformat.find(\"gmd:MD_Format/gmd:name/gco:CharacterString\",namespaces=NSMAP).text)\n",
    "        \n",
    "        thisdistobj = DistObj(thename)\n",
    "        #thisdistobj.name = thename\n",
    "        #print(\"theName: \" + thename)\n",
    "        thisdistobj.url = theURL\n",
    "        thisdistobj.description = thedescription\n",
    "        thisdistobj.protocol = theprotocol\n",
    "        thisdistobj.appprofile = theappprofile\n",
    "        thisdistobj.functioncode = thefunctioncode\n",
    "        thisdistobj.functiontext = thefunctiontext\n",
    "        thisdistobj.distorg = distorg\n",
    "        thisdistobj.formatlist = formatlist\n",
    "                \n",
    "        distlist.append(thisdistobj)                    \n",
    "\n",
    "    \n",
    "    \n",
    "json_dump_str = json.dumps([theobj.dump() for theobj in distlist])"
   ]
  },
  {
   "cell_type": "code",
   "execution_count": 45,
   "metadata": {},
   "outputs": [],
   "source": [
    "dist = distlist[0]"
   ]
  },
  {
   "cell_type": "code",
   "execution_count": 46,
   "metadata": {},
   "outputs": [],
   "source": [
    "result_list = []\n",
    "for dist in distlist:\n",
    "    for f in f_list:\n",
    "        result_list += [f(dist)]"
   ]
  },
  {
   "cell_type": "code",
   "execution_count": 47,
   "metadata": {},
   "outputs": [
    {
     "data": {
      "text/plain": [
       "[{},\n",
       " {},\n",
       " {},\n",
       " {},\n",
       " {},\n",
       " {'wfsclient': {'name': 'WFS Capabilities',\n",
       "   'url': 'http://web2.nbmg.unr.edu/ArcGIS/services/CO_Data/COActiveFaults/MapServer/WFSServer'}},\n",
       " {},\n",
       " {},\n",
       " {},\n",
       " {},\n",
       " {},\n",
       " {},\n",
       " {},\n",
       " {},\n",
       " {},\n",
       " {},\n",
       " {},\n",
       " {},\n",
       " {},\n",
       " {}]"
      ]
     },
     "execution_count": 47,
     "metadata": {},
     "output_type": "execute_result"
    }
   ],
   "source": [
    "result_list"
   ]
  },
  {
   "cell_type": "code",
   "execution_count": 48,
   "metadata": {},
   "outputs": [],
   "source": [
    "dist_weird = distlist[0]"
   ]
  },
  {
   "cell_type": "code",
   "execution_count": 49,
   "metadata": {},
   "outputs": [],
   "source": [
    "def combine_dcts(dct_list):\n",
    "    #combining a list of dicts into a single dict, duplicated keys will have their values in a list\n",
    "    combined = {}\n",
    "    for dct in dct_list:\n",
    "        for key in dct.keys():\n",
    "            if key in combined.keys():\n",
    "                combined[key] += [dct[key]]\n",
    "            else:\n",
    "                combined[key] = [dct[key]]\n",
    "    return combined"
   ]
  },
  {
   "cell_type": "code",
   "execution_count": 54,
   "metadata": {},
   "outputs": [],
   "source": [
    "token_dist = combine_dcts(result_list)"
   ]
  },
  {
   "cell_type": "code",
   "execution_count": 55,
   "metadata": {},
   "outputs": [
    {
     "data": {
      "text/plain": [
       "{'wfsclient': [{'name': 'WFS Capabilities',\n",
       "   'url': 'http://web2.nbmg.unr.edu/ArcGIS/services/CO_Data/COActiveFaults/MapServer/WFSServer'}]}"
      ]
     },
     "execution_count": 55,
     "metadata": {},
     "output_type": "execute_result"
    }
   ],
   "source": [
    "token_dist"
   ]
  },
  {
   "cell_type": "markdown",
   "metadata": {},
   "source": [
    "### Note that wmsclient option is missing because it is not yet defined in the code"
   ]
  },
  {
   "cell_type": "markdown",
   "metadata": {},
   "source": [
    "# Maps the tokens to the potential apps"
   ]
  },
  {
   "cell_type": "code",
   "execution_count": 65,
   "metadata": {},
   "outputs": [],
   "source": [
    "import regex as re"
   ]
  },
  {
   "cell_type": "code",
   "execution_count": 66,
   "metadata": {},
   "outputs": [],
   "source": [
    "def token_url_template(token, url_template, dist_url):\n",
    "    final_url = re.sub('{.*}', dist_url, url_template)\n",
    "    return final_url\n",
    "\n",
    "def token_to_actionable_menu(token_url_sheet, token_dist):\n",
    "    #return a dictionary with keys of application label and values of application's actionable url\n",
    "    #the dict will be \n",
    "\n",
    "    #ah shit, it's gonna be ugly\n",
    "    label_actionable = {}\n",
    "    for token in token_dist.keys():\n",
    "        #actionables is the sub-table of the token_url_sheet that only has rows regarding the specific token\n",
    "        actionables = token_url_sheet.loc[token_url_sheet['token'] == token]\n",
    "        dist_list = token_dist[token]\n",
    "        \n",
    "        #TO-DO\n",
    "        for i in range(actionables.shape[0]):\n",
    "            row = actionables.iloc[i, :]\n",
    "            app_name = row['Label']\n",
    "            url_template = row['Web application URL']\n",
    "            for dist in dist_list:\n",
    "                dist_name = dist['name'][:50]\n",
    "                dist_url = dist['url']\n",
    "                menu_label = dist_name + \"-\" + app_name\n",
    "                url = token_url_template(token, url_template, dist_url)\n",
    "                label_actionable[menu_label] = url\n",
    "    return label_actionable"
   ]
  },
  {
   "cell_type": "code",
   "execution_count": 67,
   "metadata": {},
   "outputs": [],
   "source": [
    "token_url_sheet = 'https://docs.google.com/spreadsheet/ccc?key=1jFGjp2_QRT1z2YR4DJZwA-OTaj41zpdkUiX_JxBoISU&gid=123788411&output=csv'\n",
    "token_url_sheet = pd.read_csv(token_url_sheet).replace(np.nan, '')\n",
    "token_url_sheet = token_url_sheet.loc[token_url_sheet['token'] != '']\n",
    "token_url_sheet['Label'] = [str(i) for i in range(token_url_sheet.shape[0])]"
   ]
  },
  {
   "cell_type": "code",
   "execution_count": 69,
   "metadata": {},
   "outputs": [
    {
     "data": {
      "application/vnd.jupyter.widget-view+json": {
       "model_id": "c0739a0345dd4b8691c00d2dc6b702fe",
       "version_major": 2,
       "version_minor": 0
      },
      "text/plain": [
       "Dropdown(options={'WFS Capabilities-9': 'http://suave-jupyterhub.com/user/zeppelin-v/notebooks/DispatchTesting…"
      ]
     },
     "metadata": {},
     "output_type": "display_data"
    }
   ],
   "source": [
    "menu = token_to_actionable_menu(token_url_sheet, token_dist)\n",
    "selection = widgets.Dropdown(options = menu)\n",
    "selection"
   ]
  },
  {
   "cell_type": "code",
   "execution_count": 70,
   "metadata": {},
   "outputs": [
    {
     "name": "stdout",
     "output_type": "stream",
     "text": [
      "If browser fails to redirect...\n",
      "notebook link (click to open): \n",
      "http://suave-jupyterhub.com/user/zeppelin-v/notebooks/DispatchTesting/WFSprocessor.ipynb?endpoint=http://web2.nbmg.unr.edu/ArcGIS/services/CO_Data/COActiveFaults/MapServer/WFSServer\n"
     ]
    }
   ],
   "source": [
    "redirect_url = selection.value\n",
    "webbrowser.open_new(redirect_url)\n",
    "print(\"If browser fails to redirect...\\nnotebook link (click to open): \" + '\\n' + redirect_url)"
   ]
  },
  {
   "cell_type": "code",
   "execution_count": null,
   "metadata": {},
   "outputs": [],
   "source": []
  }
 ],
 "metadata": {
  "kernelspec": {
   "display_name": "Python 3",
   "language": "python",
   "name": "python3"
  },
  "language_info": {
   "codemirror_mode": {
    "name": "ipython",
    "version": 3
   },
   "file_extension": ".py",
   "mimetype": "text/x-python",
   "name": "python",
   "nbconvert_exporter": "python",
   "pygments_lexer": "ipython3",
   "version": "3.6.8"
  }
 },
 "nbformat": 4,
 "nbformat_minor": 2
}
