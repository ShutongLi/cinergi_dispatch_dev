{
 "cells": [
  {
   "cell_type": "code",
   "execution_count": 1,
   "metadata": {},
   "outputs": [
    {
     "name": "stdout",
     "output_type": "stream",
     "text": [
      "Requirement already satisfied: OWSLib in /opt/conda/lib/python3.6/site-packages (0.18.0)\n",
      "Requirement already satisfied: pytz in /opt/conda/lib/python3.6/site-packages (from OWSLib) (2018.9)\n",
      "Requirement already satisfied: pyproj in /opt/conda/lib/python3.6/site-packages (from OWSLib) (2.1.3)\n",
      "Requirement already satisfied: python-dateutil>=1.5 in /opt/conda/lib/python3.6/site-packages (from OWSLib) (2.8.0)\n",
      "Requirement already satisfied: requests>=1.0 in /opt/conda/lib/python3.6/site-packages (from OWSLib) (2.12.4)\n",
      "Requirement already satisfied: six>=1.5 in /opt/conda/lib/python3.6/site-packages (from python-dateutil>=1.5->OWSLib) (1.12.0)\n",
      "Requirement already satisfied: lxml in /opt/conda/lib/python3.6/site-packages (4.3.4)\n"
     ]
    }
   ],
   "source": [
    "!pip install OWSLib\n",
    "!pip install lxml"
   ]
  },
  {
   "cell_type": "code",
   "execution_count": 33,
   "metadata": {},
   "outputs": [],
   "source": [
    "import cartopy.crs as ccrs\n",
    "import matplotlib.pyplot as plt\n",
    "%matplotlib inline\n",
    "from IPython.display import Image\n",
    "import ipywidgets as widgets\n",
    "from owslib.wms import WebMapService\n",
    "import requests\n",
    "from io import BytesIO\n",
    "import PIL\n",
    "import numpy as np\n",
    "\n",
    "def produce_img(wms, layer_name):\n",
    "    layer = wms[layer_name]\n",
    "    bbox = layer.boundingBoxWGS84\n",
    "    img  = wms.getmap(layers = [layer_name],\n",
    "#                 styles = ['visual_bright'],\n",
    "                 srs = 'EPSG:4326',\n",
    "                 bbox = bbox,\n",
    "                 size = (300, 250),\n",
    "                 format = 'image/jpeg',\n",
    "                 transparent=True)\n",
    "    return Image(img.read())\n",
    "\n",
    "\n",
    "def get_legend(wms, layer_name):\n",
    "    try:\n",
    "        layer = wms[layer_name]\n",
    "        legend_url = layer.styles['default']['legend']\n",
    "        legend_response = requests.get(legend_url)\n",
    "        legend_img = PIL.Image.open(BytesIO(legend_response.content))\n",
    "        return legend_img\n",
    "    except KeyError:\n",
    "        return None\n",
    "\n",
    "def get_center(extent):\n",
    "    extent = list(extent)\n",
    "    min_long = extent[0]\n",
    "    min_lat = extent[1]\n",
    "    max_long = extent[2]\n",
    "    max_lat = extent[3]\n",
    "    return [np.mean([min_long, max_long]), np.mean([min_lat, max_lat])]"
   ]
  },
  {
   "cell_type": "markdown",
   "metadata": {},
   "source": [
    "see example https://web2.nbmg.unr.edu/ArcGIS/services/CO_Data/COActiveFaults/MapServer/WMSServer?request=GetCapabilities&service=WMS"
   ]
  },
  {
   "cell_type": "code",
   "execution_count": 34,
   "metadata": {},
   "outputs": [],
   "source": [
    "wms_url = 'https://web2.nbmg.unr.edu/ArcGIS/services/CO_Data/COActiveFaults/MapServer/WMSServer?request=GetCapabilities&service=WMS'"
   ]
  },
  {
   "cell_type": "code",
   "execution_count": 35,
   "metadata": {},
   "outputs": [],
   "source": [
    "wms = WebMapService(wms_url)"
   ]
  },
  {
   "cell_type": "code",
   "execution_count": 36,
   "metadata": {},
   "outputs": [
    {
     "data": {
      "application/vnd.jupyter.widget-view+json": {
       "model_id": "4748e495bad641a692eb40d58fd297d0",
       "version_major": 2,
       "version_minor": 0
      },
      "text/plain": [
       "Dropdown(options=('0',), value='0')"
      ]
     },
     "metadata": {},
     "output_type": "display_data"
    }
   ],
   "source": [
    "layers = list(wms.contents)\n",
    "menu = widgets.Dropdown(options = layers)\n",
    "#the layer's name is called 0, ikr its bad\n",
    "menu"
   ]
  },
  {
   "cell_type": "code",
   "execution_count": 37,
   "metadata": {},
   "outputs": [],
   "source": [
    "layer_img = produce_img(wms, menu.value)\n",
    "legend_img = get_legend(wms, menu.value)"
   ]
  },
  {
   "cell_type": "code",
   "execution_count": 38,
   "metadata": {},
   "outputs": [
    {
     "data": {
      "image/jpeg": "[encoded data removed]",
      "text/plain": [
       "<IPython.core.display.Image object>"
      ]
     },
     "metadata": {},
     "output_type": "display_data"
    },
    {
     "data": {
      "image/png": "[encoded data removed]",
      "text/plain": [
       "<PIL.PngImagePlugin.PngImageFile image mode=RGB size=190x112 at 0x7F704A655E48>"
      ]
     },
     "metadata": {},
     "output_type": "display_data"
    }
   ],
   "source": [
    "display(layer_img)\n",
    "display(legend_img)"
   ]
  },
  {
   "cell_type": "markdown",
   "metadata": {},
   "source": [
    "Try to display the image on an interactive map"
   ]
  },
  {
   "cell_type": "code",
   "execution_count": 39,
   "metadata": {},
   "outputs": [],
   "source": [
    "import folium"
   ]
  },
  {
   "cell_type": "code",
   "execution_count": 40,
   "metadata": {},
   "outputs": [],
   "source": [
    "lyr = wms[menu.value]"
   ]
  },
  {
   "cell_type": "code",
   "execution_count": 41,
   "metadata": {},
   "outputs": [],
   "source": [
    "img  = wms.getmap(layers = ['0'],\n",
    "#                 styles = ['visual_bright'],\n",
    "                 srs = 'EPSG:4326',\n",
    "                 bbox = lyr.boundingBoxWGS84,\n",
    "                 size = (300, 250),\n",
    "                 format = 'image/png',\n",
    "                 transparent=True)"
   ]
  },
  {
   "cell_type": "code",
   "execution_count": 42,
   "metadata": {},
   "outputs": [],
   "source": [
    "def format_coord(bound_tuple):\n",
    "    bound_list = list(bound_tuple)\n",
    "    min_coord = bound_list[:2][::-1]\n",
    "    max_coord = bound_list[2:][::-1]\n",
    "    return[min_coord, max_coord]"
   ]
  },
  {
   "cell_type": "code",
   "execution_count": 43,
   "metadata": {},
   "outputs": [],
   "source": [
    "bbox = format_coord(lyr.boundingBoxWGS84)"
   ]
  },
  {
   "cell_type": "code",
   "execution_count": 44,
   "metadata": {},
   "outputs": [
    {
     "data": {
      "text/plain": [
       "[[37.000037, -109.304917], [40.167481, -103.219071]]"
      ]
     },
     "execution_count": 44,
     "metadata": {},
     "output_type": "execute_result"
    }
   ],
   "source": [
    "bbox"
   ]
  },
  {
   "cell_type": "code",
   "execution_count": 45,
   "metadata": {},
   "outputs": [],
   "source": [
    "out = open('raster_image.png', 'wb')\n",
    "out.write(img.read())\n",
    "out.close() "
   ]
  },
  {
   "cell_type": "code",
   "execution_count": 46,
   "metadata": {},
   "outputs": [],
   "source": [
    "overlay_img = folium.raster_layers.ImageOverlay(\n",
    "    name = menu.value,\n",
    "    image = 'raster_image.png',\n",
    "    bounds = bbox\n",
    ")"
   ]
  },
  {
   "cell_type": "code",
   "execution_count": 47,
   "metadata": {},
   "outputs": [],
   "source": [
    "center = get_center(lyr.boundingBoxWGS84)"
   ]
  },
  {
   "cell_type": "code",
   "execution_count": 49,
   "metadata": {},
   "outputs": [],
   "source": [
    "width, height = 650, 500\n",
    "m = folium.Map(location = center[::-1],\n",
    "                  #tiles='Stamen Toner',\n",
    "                  width=width,\n",
    "                  height=height,\n",
    "                  zoom_start=8)"
   ]
  },
  {
   "cell_type": "code",
   "execution_count": 50,
   "metadata": {},
   "outputs": [
    {
     "data": {
      "text/plain": [
       "<folium.raster_layers.ImageOverlay at 0x7f705082a7f0>"
      ]
     },
     "execution_count": 50,
     "metadata": {},
     "output_type": "execute_result"
    }
   ],
   "source": [
    "overlay_img.add_to(m)"
   ]
  },
  {
   "cell_type": "code",
   "execution_count": 51,
   "metadata": {},
   "outputs": [
    {
     "data": {
      "text/html": [
       "<div style=\"width:100%;\"><div style=\"position:relative;width:100%;height:0;padding-bottom:60%;\"><iframe src=\"data:text/html;charset=utf-8;base64,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\" style=\"position:absolute;width:100%;height:100%;left:0;top:0;border:none !important;\" allowfullscreen webkitallowfullscreen mozallowfullscreen></iframe></div></div>"
      ],
      "text/plain": [
       "<folium.folium.Map at 0x7f705087b208>"
      ]
     },
     "execution_count": 51,
     "metadata": {},
     "output_type": "execute_result"
    }
   ],
   "source": [
    "m"
   ]
  },
  {
   "cell_type": "markdown",
   "metadata": {},
   "source": [
    "--------------------------------------------------------------------------------------------------------------------------"
   ]
  },
  {
   "cell_type": "code",
   "execution_count": 11,
   "metadata": {},
   "outputs": [],
   "source": [
    "import folium\n",
    "import matplotlib.pyplot as plt\n",
    "\n",
    "import cartopy.crs as ccrs\n",
    "from cartopy.io import shapereader\n",
    "from cartopy.mpl.gridliner import LONGITUDE_FORMATTER, LATITUDE_FORMATTER"
   ]
  },
  {
   "cell_type": "code",
   "execution_count": 12,
   "metadata": {},
   "outputs": [],
   "source": [
    "def make_map(projection=ccrs.PlateCarree()):\n",
    "    fig, ax = plt.subplots(figsize=(9, 13),\n",
    "                           subplot_kw=dict(projection=projection))\n",
    "    gl = ax.gridlines(draw_labels=True)\n",
    "    gl.xlabels_top = gl.ylabels_right = False\n",
    "    gl.xformatter = LONGITUDE_FORMATTER\n",
    "    gl.yformatter = LATITUDE_FORMATTER\n",
    "    return fig, ax"
   ]
  },
  {
   "cell_type": "code",
   "execution_count": 13,
   "metadata": {},
   "outputs": [],
   "source": [
    "lyr = wms['0']"
   ]
  },
  {
   "cell_type": "code",
   "execution_count": 14,
   "metadata": {},
   "outputs": [],
   "source": [
    "extent = list(lyr.boundingBoxWGS84)"
   ]
  },
  {
   "cell_type": "code",
   "execution_count": 15,
   "metadata": {},
   "outputs": [
    {
     "data": {
      "text/plain": [
       "['image/bmp',\n",
       " 'image/jpeg',\n",
       " 'image/tiff',\n",
       " 'image/png',\n",
       " 'image/png8',\n",
       " 'image/png24',\n",
       " 'image/png32',\n",
       " 'image/gif',\n",
       " 'image/svg+xml']"
      ]
     },
     "execution_count": 15,
     "metadata": {},
     "output_type": "execute_result"
    }
   ],
   "source": [
    "wms.getOperationByName('GetMap').formatOptions"
   ]
  },
  {
   "cell_type": "code",
   "execution_count": 16,
   "metadata": {},
   "outputs": [],
   "source": [
    "img  = wms.getmap(layers = ['0'],\n",
    "#                 styles = ['visual_bright'],\n",
    "                 srs = 'EPSG:4326',\n",
    "                 bbox = lyr.boundingBoxWGS84,\n",
    "                 size = (300, 250),\n",
    "                 format = 'image/png',\n",
    "                 transparent=True)"
   ]
  },
  {
   "cell_type": "code",
   "execution_count": 17,
   "metadata": {},
   "outputs": [],
   "source": [
    "# out = open('jpl_mosaic_visb.png', 'wb')\n",
    "# out.write(img.read())\n",
    "# out.close()"
   ]
  },
  {
   "cell_type": "code",
   "execution_count": 18,
   "metadata": {},
   "outputs": [],
   "source": [
    "def get_center(extent):\n",
    "    extent = list(extent)\n",
    "    min_long = extent[0]\n",
    "    min_lat = extent[1]\n",
    "    max_long = extent[2]\n",
    "    max_lat = extent[3]\n",
    "    return [np.mean([min_long, max_long]), np.mean([min_lat, max_lat])]"
   ]
  },
  {
   "cell_type": "code",
   "execution_count": 19,
   "metadata": {},
   "outputs": [
    {
     "data": {
      "image/png": "[encoded data removed]",
      "text/plain": [
       "<Figure size 648x936 with 1 Axes>"
      ]
     },
     "metadata": {
      "needs_background": "light"
     },
     "output_type": "display_data"
    }
   ],
   "source": [
    "fig, ax = make_map()\n",
    "image = plt.imread(img.geturl())\n",
    "img_plot = ax.imshow(image, origin = 'upper', alpha=0.75, extent = extent)"
   ]
  },
  {
   "cell_type": "code",
   "execution_count": 31,
   "metadata": {},
   "outputs": [
    {
     "data": {
      "text/html": [
       "<div style=\"width:100%;\"><div style=\"position:relative;width:100%;height:0;padding-bottom:60%;\"><iframe src=\"data:text/html;charset=utf-8;base64,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\" style=\"position:absolute;width:100%;height:100%;left:0;top:0;border:none !important;\" allowfullscreen webkitallowfullscreen mozallowfullscreen></iframe></div></div>"
      ],
      "text/plain": [
       "<folium.folium.Map at 0x7f4a9144db70>"
      ]
     },
     "execution_count": 31,
     "metadata": {},
     "output_type": "execute_result"
    }
   ],
   "source": [
    "import numpy as np\n",
    "center = get_center(extent)\n",
    "width, height = 650, 500\n",
    "mapa = folium.Map(location = center[::-1],\n",
    "                  min_lon=extent[0], max_lon=extent[2], min_lat=extent[1], max_lat=extent[3],\n",
    "                  #tiles='Stamen Toner',\n",
    "                  width=width,\n",
    "                  height=height,\n",
    "                  zoom_start=8)\n",
    "\n",
    "# inline_map(mapa)\n",
    "mapa\n"
   ]
  },
  {
   "cell_type": "code",
   "execution_count": 32,
   "metadata": {},
   "outputs": [
    {
     "data": {
      "text/plain": [
       "'https://web2.nbmg.unr.edu/arcgis/services/CO_Data/COActiveFaults/MapServer/WmsServer?service=WMS&version=1.1.1&request=GetMap&layers=0&styles=&width=300&height=250&srs=EPSG%3A4326&bbox=-109.304917%2C37.000037%2C-103.219071%2C40.167481&format=image%2Fpng&transparent=TRUE&bgcolor=0xFFFFFF&exceptions=application%2Fvnd.ogc.se_xml'"
      ]
     },
     "execution_count": 32,
     "metadata": {},
     "output_type": "execute_result"
    }
   ],
   "source": [
    "img.geturl()"
   ]
  },
  {
   "cell_type": "code",
   "execution_count": 33,
   "metadata": {},
   "outputs": [],
   "source": [
    "extra = \"\"\"\n",
    "var imageUrl = 'https://web2.nbmg.unr.edu/arcgis/services/CO_Data/COActiveFaults/MapServer/WmsServer?service=WMS&version=1.1.1&request=GetMap&layers=0&styles=&width=300&height=250&srs=EPSG%3A4326&bbox=-109.304917%2C37.000037%2C-103.219071%2C40.167481&format=image%2Fpng&transparent=TRUE&bgcolor=0xFFFFFF&exceptions=application%2Fvnd.ogc.se_xml',\n",
    "imageBounds = [[-109.304917, 37.000037], [-109.304917, 37.000037]];\n",
    "L.imageOverlay(imageUrl, imageBounds).addTo(map);\n",
    "\"\"\""
   ]
  },
  {
   "cell_type": "code",
   "execution_count": 27,
   "metadata": {},
   "outputs": [],
   "source": [
    "import fileinput\n",
    "\n",
    "\n",
    "mapa.save(outfile=\"mapa.html\")\n",
    "\n",
    "add_lines = False\n",
    "for line in fileinput.input('mapa.html', inplace=True):\n",
    "    if 'map.addLayer(clusteredmarkers);' in line:\n",
    "        add_lines = True\n",
    "    else:\n",
    "        if add_lines:\n",
    "            print(extra)\n",
    "        add_lines = False\n",
    "    print(line)"
   ]
  },
  {
   "cell_type": "markdown",
   "metadata": {},
   "source": [
    "-----------------------------------------------------------------------------------------------------------------------------"
   ]
  },
  {
   "cell_type": "code",
   "execution_count": 30,
   "metadata": {},
   "outputs": [
    {
     "name": "stdout",
     "output_type": "stream",
     "text": [
      "Help on class ImageOverlay in module folium.raster_layers:\n",
      "\n",
      "class ImageOverlay(folium.map.Layer)\n",
      " |  Used to load and display a single image over specific bounds of\n",
      " |  the map, implements ILayer interface.\n",
      " |  \n",
      " |  Parameters\n",
      " |  ----------\n",
      " |  image: string, file or array-like object\n",
      " |      The data you want to draw on the map.\n",
      " |      * If string, it will be written directly in the output file.\n",
      " |      * If file, it's content will be converted as embedded in the output file.\n",
      " |      * If array-like, it will be converted to PNG base64 string and embedded in the output.\n",
      " |  bounds: list\n",
      " |      Image bounds on the map in the form [[lat_min, lon_min],\n",
      " |      [lat_max, lon_max]]\n",
      " |  opacity: float, default Leaflet's default (1.0)\n",
      " |  alt: string, default Leaflet's default ('')\n",
      " |  origin: ['upper' | 'lower'], optional, default 'upper'\n",
      " |      Place the [0,0] index of the array in the upper left or\n",
      " |      lower left corner of the axes.\n",
      " |  colormap: callable, used only for `mono` image.\n",
      " |      Function of the form [x -> (r,g,b)] or [x -> (r,g,b,a)]\n",
      " |      for transforming a mono image into RGB.\n",
      " |      It must output iterables of length 3 or 4,\n",
      " |      with values between 0 and 1.\n",
      " |      Hint: you can use colormaps from `matplotlib.cm`.\n",
      " |  mercator_project: bool, default False.\n",
      " |      Used only for array-like image.  Transforms the data to\n",
      " |      project (longitude, latitude) coordinates to the\n",
      " |      Mercator projection.\n",
      " |      Beware that this will only work if `image` is an array-like\n",
      " |      object.\n",
      " |  pixelated: bool, default True\n",
      " |      Sharp sharp/crips (True) or aliased corners (False).\n",
      " |  name : string, default None\n",
      " |      The name of the Layer, as it will appear in LayerControls\n",
      " |  overlay : bool, default True\n",
      " |      Adds the layer as an optional overlay (True) or the base layer (False).\n",
      " |  control : bool, default True\n",
      " |      Whether the Layer will be included in LayerControls.\n",
      " |  show: bool, default True\n",
      " |      Whether the layer will be shown on opening (only for overlays).\n",
      " |  \n",
      " |  See https://leafletjs.com/reference-1.4.0.html#imageoverlay for more\n",
      " |  options.\n",
      " |  \n",
      " |  Method resolution order:\n",
      " |      ImageOverlay\n",
      " |      folium.map.Layer\n",
      " |      branca.element.MacroElement\n",
      " |      branca.element.Element\n",
      " |      builtins.object\n",
      " |  \n",
      " |  Methods defined here:\n",
      " |  \n",
      " |  __init__(self, image, bounds, origin='upper', colormap=None, mercator_project=False, pixelated=True, name=None, overlay=True, control=True, show=True, **kwargs)\n",
      " |      Initialize self.  See help(type(self)) for accurate signature.\n",
      " |  \n",
      " |  render(self, **kwargs)\n",
      " |      Renders the HTML representation of the element.\n",
      " |  \n",
      " |  ----------------------------------------------------------------------\n",
      " |  Methods inherited from branca.element.Element:\n",
      " |  \n",
      " |  add_child(self, child, name=None, index=None)\n",
      " |      Add a child.\n",
      " |  \n",
      " |  add_children(self, child, name=None, index=None)\n",
      " |      Add a child.\n",
      " |  \n",
      " |  add_to(self, parent, name=None, index=None)\n",
      " |      Add element to a parent.\n",
      " |  \n",
      " |  get_bounds(self)\n",
      " |      Computes the bounds of the object and all it's children\n",
      " |      in the form [[lat_min, lon_min], [lat_max, lon_max]].\n",
      " |  \n",
      " |  get_name(self)\n",
      " |      Returns a string representation of the object.\n",
      " |      This string has to be unique and to be a python and\n",
      " |      javascript-compatible\n",
      " |      variable name.\n",
      " |  \n",
      " |  get_root(self)\n",
      " |      Returns the root of the elements tree.\n",
      " |  \n",
      " |  save(self, outfile, close_file=True, **kwargs)\n",
      " |      Saves an Element into a file.\n",
      " |      \n",
      " |      Parameters\n",
      " |      ----------\n",
      " |      outfile : str or file object\n",
      " |          The file (or filename) where you want to output the html.\n",
      " |      close_file : bool, default True\n",
      " |          Whether the file has to be closed after write.\n",
      " |  \n",
      " |  to_dict(self, depth=-1, ordered=True, **kwargs)\n",
      " |      Returns a dict representation of the object.\n",
      " |  \n",
      " |  to_json(self, depth=-1, **kwargs)\n",
      " |      Returns a JSON representation of the object.\n",
      " |  \n",
      " |  ----------------------------------------------------------------------\n",
      " |  Data descriptors inherited from branca.element.Element:\n",
      " |  \n",
      " |  __dict__\n",
      " |      dictionary for instance variables (if defined)\n",
      " |  \n",
      " |  __weakref__\n",
      " |      list of weak references to the object (if defined)\n",
      "\n"
     ]
    }
   ],
   "source": [
    "help(folium.raster_layers.ImageOverlay)"
   ]
  },
  {
   "cell_type": "code",
   "execution_count": null,
   "metadata": {},
   "outputs": [],
   "source": []
  }
 ],
 "metadata": {
  "kernelspec": {
   "display_name": "Python 3",
   "language": "python",
   "name": "python3"
  },
  "language_info": {
   "codemirror_mode": {
    "name": "ipython",
    "version": 3
   },
   "file_extension": ".py",
   "mimetype": "text/x-python",
   "name": "python",
   "nbconvert_exporter": "python",
   "pygments_lexer": "ipython3",
   "version": "3.6.8"
  }
 },
 "nbformat": 4,
 "nbformat_minor": 2
}
