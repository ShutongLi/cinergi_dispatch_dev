{
 "cells": [
  {
   "cell_type": "markdown",
   "metadata": {},
   "source": [
    "### installing necessary packages"
   ]
  },
  {
   "cell_type": "code",
   "execution_count": 1,
   "metadata": {
    "scrolled": true
   },
   "outputs": [
    {
     "name": "stdout",
     "output_type": "stream",
     "text": [
      "Requirement already satisfied: Jinja2 in c:\\users\\shuto\\anaconda3\\lib\\site-packages (2.10.1)\n",
      "Requirement already satisfied: MarkupSafe>=0.23 in c:\\users\\shuto\\anaconda3\\lib\\site-packages (from Jinja2) (1.1.1)\n",
      "Collecting jsonpath_rw\n",
      "  Downloading https://files.pythonhosted.org/packages/71/7c/45001b1f19af8c4478489fbae4fc657b21c4c669d7a5a036a86882581d85/jsonpath-rw-1.4.0.tar.gz\n",
      "Requirement already satisfied: ply in c:\\users\\shuto\\anaconda3\\lib\\site-packages (from jsonpath_rw) (3.11)\n",
      "Requirement already satisfied: decorator in c:\\users\\shuto\\anaconda3\\lib\\site-packages (from jsonpath_rw) (4.4.0)\n",
      "Requirement already satisfied: six in c:\\users\\shuto\\anaconda3\\lib\\site-packages (from jsonpath_rw) (1.12.0)\n",
      "Building wheels for collected packages: jsonpath-rw\n",
      "  Building wheel for jsonpath-rw (setup.py): started\n",
      "  Building wheel for jsonpath-rw (setup.py): finished with status 'done'\n",
      "  Stored in directory: C:\\Users\\shuto\\AppData\\Local\\pip\\Cache\\wheels\\5c\\00\\9a\\82822db383c2d96dcebf839786665a185f92d37e5026f9806f\n",
      "Successfully built jsonpath-rw\n",
      "Installing collected packages: jsonpath-rw\n",
      "Successfully installed jsonpath-rw-1.4.0\n"
     ]
    }
   ],
   "source": [
    "!pip install Jinja2\n",
    "!pip install jsonpath_rw"
   ]
  },
  {
   "cell_type": "markdown",
   "metadata": {},
   "source": [
    "### Loading the template"
   ]
  },
  {
   "cell_type": "code",
   "execution_count": 2,
   "metadata": {},
   "outputs": [],
   "source": [
    "from jinja2 import Template"
   ]
  },
  {
   "cell_type": "code",
   "execution_count": 3,
   "metadata": {},
   "outputs": [],
   "source": [
    "from jinja2 import Environment, FileSystemLoader"
   ]
  },
  {
   "cell_type": "code",
   "execution_count": 4,
   "metadata": {
    "scrolled": false
   },
   "outputs": [],
   "source": [
    "env = Environment(loader = FileSystemLoader('.'))\n",
    "template = env.get_template('sdoToISO-ISOTemplate_test6.xml')"
   ]
  },
  {
   "cell_type": "markdown",
   "metadata": {},
   "source": [
    "### Demo: Automated jsonpath parsing from table"
   ]
  },
  {
   "cell_type": "markdown",
   "metadata": {},
   "source": [
    "mapping in render() requires a dict. Table, which in essence is a dict, is easy for us to update and keep track of the mapping values. Workflow involves extracting variable name and json path for each information needed in the template. Operating on the table to turn it into the desired mapper and pass it into render."
   ]
  },
  {
   "cell_type": "code",
   "execution_count": 5,
   "metadata": {},
   "outputs": [],
   "source": [
    "from jsonpath_rw import jsonpath, parse\n",
    "import pandas as pd\n",
    "import numpy as np\n",
    "import json"
   ]
  },
  {
   "cell_type": "code",
   "execution_count": 6,
   "metadata": {},
   "outputs": [],
   "source": [
    "fh = open('AS-BCODMO-SDOexample.json')\n",
    "json_dict = json.load(fh)\n",
    "def get_value(expression, source = json_dict):\n",
    "    expression = parse(expression)\n",
    "    try:\n",
    "        return expression.find(source)[0].value\n",
    "    except IndexError:\n",
    "        return ''"
   ]
  },
  {
   "cell_type": "code",
   "execution_count": 8,
   "metadata": {},
   "outputs": [
    {
     "data": {
      "text/html": [
       "<div>\n",
       "<style scoped>\n",
       "    .dataframe tbody tr th:only-of-type {\n",
       "        vertical-align: middle;\n",
       "    }\n",
       "\n",
       "    .dataframe tbody tr th {\n",
       "        vertical-align: top;\n",
       "    }\n",
       "\n",
       "    .dataframe thead th {\n",
       "        text-align: right;\n",
       "    }\n",
       "</style>\n",
       "<table border=\"1\" class=\"dataframe\">\n",
       "  <thead>\n",
       "    <tr style=\"text-align: right;\">\n",
       "      <th></th>\n",
       "      <th>variable</th>\n",
       "      <th>json_path</th>\n",
       "      <th>@ of</th>\n",
       "    </tr>\n",
       "  </thead>\n",
       "  <tbody>\n",
       "    <tr>\n",
       "      <th>0</th>\n",
       "      <td>md_creators</td>\n",
       "      <td>$.creator</td>\n",
       "      <td></td>\n",
       "    </tr>\n",
       "    <tr>\n",
       "      <th>1</th>\n",
       "      <td>creator_profile_url</td>\n",
       "      <td>`this`.creator.url</td>\n",
       "      <td>md_creators</td>\n",
       "    </tr>\n",
       "    <tr>\n",
       "      <th>2</th>\n",
       "      <td>creator_profile_type</td>\n",
       "      <td>`this`.creator.@type</td>\n",
       "      <td>md_creators</td>\n",
       "    </tr>\n",
       "    <tr>\n",
       "      <th>3</th>\n",
       "      <td>creator_profile_name</td>\n",
       "      <td>`this`.creator.name</td>\n",
       "      <td>md_creators</td>\n",
       "    </tr>\n",
       "    <tr>\n",
       "      <th>4</th>\n",
       "      <td>creator_type</td>\n",
       "      <td>`this`.@type</td>\n",
       "      <td>md_creators</td>\n",
       "    </tr>\n",
       "  </tbody>\n",
       "</table>\n",
       "</div>"
      ],
      "text/plain": [
       "               variable             json_path         @ of\n",
       "0           md_creators             $.creator             \n",
       "1   creator_profile_url    `this`.creator.url  md_creators\n",
       "2  creator_profile_type  `this`.creator.@type  md_creators\n",
       "3  creator_profile_name   `this`.creator.name  md_creators\n",
       "4          creator_type          `this`.@type  md_creators"
      ]
     },
     "execution_count": 8,
     "metadata": {},
     "output_type": "execute_result"
    }
   ],
   "source": [
    "template_df = pd.read_csv('template_vars.csv')\n",
    "template_df = template_df.loc[template_df['exception'] == 0].drop('exception', axis = 1)\n",
    "template_df['@ of'] = template_df['@ of'].fillna('')\n",
    "template_df.head()"
   ]
  },
  {
   "cell_type": "code",
   "execution_count": 9,
   "metadata": {},
   "outputs": [],
   "source": [
    "global_variable_mapping = (template_df\n",
    "                           .loc[template_df['@ of'] == '']\n",
    "                           .drop('@ of', axis = 1)\n",
    "                           .set_index('variable'))['json_path'].apply(lambda x: get_value(x)).to_dict()"
   ]
  },
  {
   "cell_type": "code",
   "execution_count": 10,
   "metadata": {},
   "outputs": [],
   "source": [
    "local_variable_mapping = (template_df\n",
    "                          .loc[template_df['@ of'] != '']\n",
    "                          .drop('@ of', axis = 1)\n",
    "                          .set_index('variable')['json_path']\n",
    "                          .to_dict()\n",
    "                         )"
   ]
  },
  {
   "cell_type": "code",
   "execution_count": 16,
   "metadata": {},
   "outputs": [
    {
     "data": {
      "text/plain": [
       "{'md_creators': [{'@type': 'Role',\n",
       "   'additionalType': 'http://schema.geolink.org/1.0/base/main#Participant',\n",
       "   'roleName': 'Principal Investigator',\n",
       "   'creator': {'@type': 'Person',\n",
       "    'additionalType': 'http://schema.geolink.org/1.0/base/main#Person',\n",
       "    '@id': 'https://www.bco-dmo.org/person/51317',\n",
       "    'name': 'Dr Uta Passow',\n",
       "    'url': 'https://www.bco-dmo.org/person/51317'}},\n",
       "  {'@type': 'Role',\n",
       "   'additionalType': 'http://schema.geolink.org/1.0/base/main#Participant',\n",
       "   'roleName': 'Co-Principal Investigator',\n",
       "   'creator': {'@type': 'Person',\n",
       "    'additionalType': 'http://schema.geolink.org/1.0/base/main#Person',\n",
       "    '@id': 'https://www.bco-dmo.org/person/50663',\n",
       "    'name': 'Dr Mark Brzezinski',\n",
       "    'url': 'https://www.bco-dmo.org/person/50663',\n",
       "    'identifier': {'@type': 'PropertyValue',\n",
       "     'additionalType': ['http://schema.geolink.org/1.0/base/main#Identifier',\n",
       "      'http://purl.org/spar/datacite/Identifier'],\n",
       "     'propertyID': 'http://purl.org/spar/datacite/orcid',\n",
       "     'value': '0000-0003-3432-2297',\n",
       "     'url': 'https://orcid.org/0000-0003-3432-2297'}}},\n",
       "  {'@type': 'Role',\n",
       "   'additionalType': 'http://schema.geolink.org/1.0/base/main#Participant',\n",
       "   'roleName': 'Co-Principal Investigator',\n",
       "   'creator': {'@type': 'Person',\n",
       "    'additionalType': 'http://schema.geolink.org/1.0/base/main#Person',\n",
       "    '@id': 'https://www.bco-dmo.org/person/50575',\n",
       "    'name': 'Dr Craig Carlson',\n",
       "    'url': 'https://www.bco-dmo.org/person/50575',\n",
       "    'identifier': {'@type': 'PropertyValue',\n",
       "     'additionalType': ['http://schema.geolink.org/1.0/base/main#Identifier',\n",
       "      'http://purl.org/spar/datacite/Identifier'],\n",
       "     'propertyID': 'http://purl.org/spar/datacite/orcid',\n",
       "     'value': '0000-0003-2591-5293',\n",
       "     'url': 'https://orcid.org/0000-0003-2591-5293'}}},\n",
       "  {'@type': 'Role',\n",
       "   'additionalType': 'http://schema.geolink.org/1.0/base/main#Participant',\n",
       "   'roleName': 'Student',\n",
       "   'creator': {'@type': 'Person',\n",
       "    'additionalType': 'http://schema.geolink.org/1.0/base/main#Person',\n",
       "    '@id': 'https://www.bco-dmo.org/person/471722',\n",
       "    'name': 'Ms Anna James',\n",
       "    'url': 'https://www.bco-dmo.org/person/471722'}}],\n",
       " 'md_citation': 'Passow, U., Brzezinski, M., Carlson, C. (2016) Removal of organic carbon by natural bacterioplankton communities as a function of pCO2 from laboratory experiments between 2012 and 2016. Biological and Chemical Oceanography Data Management Office (BCO-DMO). Dataset version 2013-11-21 [if applicable, indicate subset used]. doi:10.1575/1912/bco-dmo.665253 [access date]',\n",
       " 'md_desc': '&lt;p&gt;This dataset includes results of laboratory experiments which measured dissolved organic carbon (DOC) usage by natural bacteria in seawater at different pCO2 levels. &amp;nbsp;Included in this dataset are; bacterial&amp;nbsp;abundance, total organic carbon (TOC), what DOC was added to the experiment, target pCO2 level. &amp;nbsp;The experiments were conducted between 2012 and 2016 during the R/V Kilo Moana cruise KM1416, at the Bermuda Institute for Ocean Sciences (BIOS), and the University of Santa Barbara.&lt;/p&gt;',\n",
       " 'md_keywords': 'ocean acidification, OA, Dissolved Organic Carbon, DOC, bacterioplankton respiration, pCO2, carbon dioxide, elevated pCO2, oceans',\n",
       " 'md_license': 'http://creativecommons.org/licenses/by/4.0/',\n",
       " 'md_pp': {'@type': 'DigitalDocument',\n",
       "  '@id': 'http://creativecommons.org/licenses/by/4.0/',\n",
       "  'additionalType': 'https://geodex.org/voc/Protocol-License',\n",
       "  'name': 'Dataset Usage License',\n",
       "  'url': 'http://creativecommons.org/licenses/by/4.0/'},\n",
       " 'md_temp_cov': '2012-09-20/2016-01-22',\n",
       " 'md_spatial_cov': {'@type': 'Place',\n",
       "  'geo': {'@type': 'GeoShape',\n",
       "   'box': '-17.45,-149.8727 34.407,-64.6353',\n",
       "   'polygon': '-17.45,-149.8727 34.407,-149.8727 34.407,-64.6353 -17.45,-64.6353 -17.45,-149.8727'},\n",
       "  'subjectOf': {'@type': 'CreativeWork',\n",
       "   'fileFormat': 'application/vnd.geo+json',\n",
       "   'text': '{\"type\":\"Feature\",\"geometry\":{\"type\":\"Polygon\",\"coordinates\":[[[-64.6353,34.407],[-149.8727,34.407],[-149.8727,-17.45],[-64.6353,-17.45],[-64.6353,34.407]]],\"properties\":[]}}'},\n",
       "  'additionalProperty': [{'@type': 'PropertyValue',\n",
       "    'alternateName': 'CRS',\n",
       "    'name': 'Coordinate Reference System',\n",
       "    'value': 'http://www.opengis.net/def/crs/OGC/1.3/CRS84'},\n",
       "   {'@type': 'PropertyValue',\n",
       "    'value': 'POLYGON ((-149.8727 -17.45, -64.6353 -17.45, -64.6353 34.407, -149.8727 34.407, -149.8727 -17.45))',\n",
       "    'propertyID': 'http://www.opengis.net/ont/geosparql#wktLiteral',\n",
       "    'name': 'Well-Known Text',\n",
       "    'alternateName': 'WKT'}]},\n",
       " 'md_spatial_box': '-17.45,-149.8727 34.407,-64.6353',\n",
       " 'md_url': 'https://www.bco-dmo.org/dataset/472032',\n",
       " 'md_id': 'https://www.bco-dmo.org/dataset/472032',\n",
       " 'md_type': 'Dataset',\n",
       " 'md_name': 'Removal of organic carbon by natural bacterioplankton communities as a function of pCO2 from laboratory experiments between 2012 and 2016',\n",
       " 'md_alter': 'Data Set 3A: Utilization of dissolved organic carbon by a natural bacterial community as a function of pCO2',\n",
       " 'md_date_pub': '2016-12-05',\n",
       " 'md_version': '2013-11-21',\n",
       " 'md_identifiers': ['http://lod.bco-dmo.org/id/dataset/472032',\n",
       "  {'@type': 'PropertyValue',\n",
       "   'additionalType': ['http://schema.geolink.org/1.0/base/main#Identifier',\n",
       "    'http://purl.org/spar/datacite/Identifier'],\n",
       "   '@id': 'https://doi.org/10.1575/1912/bco-dmo.665253',\n",
       "   'propertyID': 'http://purl.org/spar/datacite/doi',\n",
       "   'value': '10.1575/1912/bco-dmo.665253',\n",
       "   'url': 'https://doi.org/10.1575/1912/bco-dmo.665253'}]}"
      ]
     },
     "execution_count": 16,
     "metadata": {},
     "output_type": "execute_result"
    }
   ],
   "source": [
    "global_variable_mapping"
   ]
  },
  {
   "cell_type": "code",
   "execution_count": 14,
   "metadata": {},
   "outputs": [
    {
     "data": {
      "text/plain": [
       "{'creator_profile_name': '`this`.creator.name',\n",
       " 'creator_profile_type': '`this`.creator.@type',\n",
       " 'creator_profile_url': '`this`.creator.url',\n",
       " 'creator_rolename': '`this`.roleName',\n",
       " 'creator_type': '`this`.@type',\n",
       " 'identifier_pid': '`this`.propertyID',\n",
       " 'identifier_type': '`this`.@type',\n",
       " 'identifier_value': '`this`.value'}"
      ]
     },
     "execution_count": 14,
     "metadata": {},
     "output_type": "execute_result"
    }
   ],
   "source": [
    "local_variable_mapping"
   ]
  },
  {
   "cell_type": "code",
   "execution_count": 15,
   "metadata": {},
   "outputs": [],
   "source": [
    "function_mapping = {'get_value':get_value, \n",
    "                    'parse': parse}"
   ]
  },
  {
   "cell_type": "code",
   "execution_count": 16,
   "metadata": {},
   "outputs": [],
   "source": [
    "def merge_dicts(*dicts):\n",
    "    result = {}\n",
    "    for mapping in dicts:\n",
    "        for key in mapping:\n",
    "            result[key] = mapping[key]\n",
    "    return result"
   ]
  },
  {
   "cell_type": "code",
   "execution_count": 17,
   "metadata": {},
   "outputs": [],
   "source": [
    "render_mapping = merge_dicts(global_variable_mapping, local_variable_mapping, function_mapping)"
   ]
  },
  {
   "cell_type": "code",
   "execution_count": 18,
   "metadata": {},
   "outputs": [
    {
     "name": "stdout",
     "output_type": "stream",
     "text": [
      "<?xml version=\"1.0\" encoding=\"UTF-8\"?>\n",
      "<gmd:MD_Metadata xmlns:gmd=\"http://www.isotc211.org/2005/gmd\"\n",
      "    xmlns:gco=\"http://www.isotc211.org/2005/gco\" xmlns:srv=\"http://www.isotc211.org/2005/srv\"\n",
      "    xmlns:gml=\"http://www.opengis.net/gml\" xmlns:xlink=\"http://www.w3.org/1999/xlink\">\n",
      "    <!-- template mapping schema.org JSON-LD to ISO19115 (2006).  \n",
      "        JSON paths follow https://restfulapi.net/json-jsonpath/\n",
      "    \n",
      "    java implemenation at https://github.com/json-path/JsonPath adds additional operators for expressions\n",
      "    https://github.com/kennknowles/python-jsonpath-rw is python implementation that is also somewhat different\n",
      "    flow communications php implementation https://github.com/FlowCommunications/JSONPath\n",
      "    see https://pypi.org/search/?q=jsonpath for a bunch of python implementations...\n",
      "    \n",
      "    comparison of different implementations: https://cburgmer.github.io/json-path-comparison/\n",
      "    -->\n",
      "    \n",
      "    <!-- start with assumption that JSON-LD schema.org docs will follow \n",
      "    https://github.com/earthcubearchitecture-project418/p418Vocabulary#schemaorg-jsonld -->\n",
      "    \n",
      "    <!-- NOTE NOTE NOTE !!!!!!!!!!!!!!!!!!  \n",
      "    JSON-LD must be preprocessed so that \n",
      "        1. sdo namespace elements do not have prefixes\n",
      "        2. all '@' characters are converted to 'at_'. '@' is a reserved character in JSON path\n",
      "        3. all ':' characters used in prefixes for JSON keys are converted to '-'. ':' is a reserved character in JSON path\n",
      "    \n",
      "    various string functions are used, mostly based on XQuery/XPath function names; these will need to be mapped into \n",
      "    appropriate functions for the implementation environment of the template processor\n",
      "    \n",
      "    -->\n",
      "    <gmd:fileIdentifier>\n",
      "        <gco:CharacterString>metadata-https://www.bco-dmo.org/dataset/472032</gco:CharacterString>\n",
      "    </gmd:fileIdentifier>\n",
      "    <gmd:language>\n",
      "        <gco:CharacterString>en</gco:CharacterString>\n",
      "    </gmd:language>\n",
      "    <!-- default to dataset for resource type -->\n",
      "    <gmd:hierarchyLevel>\n",
      "        <gmd:MD_ScopeCode codeSpace=\"ISOTC211/19115\"\n",
      "            codeList=\"http://www.isotc211.org/2005/resources/Codelist/gmxCodelists.xml#MD_ScopeCode\"\n",
      "            codeListValue=\"dataset\">dataset</gmd:MD_ScopeCode>\n",
      "    </gmd:hierarchyLevel>\n",
      "    <gmd:hierarchyLevelName>\n",
      "        <gco:CharacterString>Dataset</gco:CharacterString>\n",
      "    </gmd:hierarchyLevelName>\n",
      "\n",
      "    <!-- metadata creator contact information, not implemented -->\n",
      "    <gmd:contact>\n",
      "        <gmd:CI_ResponsibleParty>\n",
      "            <gmd:organisationName>\n",
      "                <gco:CharacterString>Earthcube DataDiscovery Studio</gco:CharacterString>\n",
      "            </gmd:organisationName>\n",
      "            <gmd:positionName>\n",
      "                <gco:CharacterString>DDS Metadata Contact</gco:CharacterString>\n",
      "            </gmd:positionName> <gmd:contactInfo>\n",
      "                <gmd:CI_Contact>\n",
      "                    <gmd:address>\n",
      "                        <gmd:CI_Address>\n",
      "                            <gmd:electronicMailAddress>\n",
      "                                <gco:CharacterString>metadata@earthcube.org</gco:CharacterString>\n",
      "                            </gmd:electronicMailAddress>\n",
      "                        </gmd:CI_Address>\n",
      "                    </gmd:address>\n",
      "                </gmd:CI_Contact>\n",
      "            </gmd:contactInfo>\n",
      "            <gmd:role>\n",
      "                <gmd:CI_RoleCode codeSpace=\"ISOTC211/19115\"\n",
      "                    codeList=\"http://www.isotc211.org/2005/resources/Codelist/gmxCodelists.xml#CI_RoleCode\"\n",
      "                    codeListValue=\"pointOfContact\">pointOfContact </gmd:CI_RoleCode>\n",
      "            </gmd:role>\n",
      "        </gmd:CI_ResponsibleParty>\n",
      "    </gmd:contact>\n",
      "    <gmd:dateStamp gco:nilReason=\"unknown\"/>\n",
      "    <gmd:metadataStandardName>\n",
      "        <gco:CharacterString>ISO 19139/19115 Metadata for Datasets</gco:CharacterString>\n",
      "    </gmd:metadataStandardName>\n",
      "    <gmd:metadataStandardVersion>\n",
      "        <gco:CharacterString>2003</gco:CharacterString>\n",
      "    </gmd:metadataStandardVersion> \n",
      "\n",
      "    <!-- TODO!!!!! id info, needs to update the template format -->\n",
      "    <gmd:identificationInfo>\n",
      "        <gmd:MD_DataIdentification>\n",
      "            <gmd:citation>\n",
      "                <gmd:CI_Citation>\n",
      "                    <gmd:title>\n",
      "                        <gco:CharacterString>Removal of organic carbon by natural bacterioplankton communities as a function of pCO2 from laboratory experiments between 2012 and 2016</gco:CharacterString>\n",
      "                    </gmd:title>\n",
      "\n",
      "                    \n",
      "                        <gmd:alternateTitle>\n",
      "                            <gco:CharacterString>Data Set 3A: Utilization of dissolved organic carbon by a natural bacterial community as a function of pCO2</gco:CharacterString>\n",
      "                        </gmd:alternateTitle>\n",
      "                      \n",
      "\n",
      "                    <!-- TODO implement some error checking on the datePublished string -->\n",
      "                    \n",
      "                        <gmd:date>\n",
      "                            <gmd:CI_Date>\n",
      "                                <gmd:date>\n",
      "                                    <gco:Date>2016-12-05</gco:Date>\n",
      "                                </gmd:date>\n",
      "                                <gmd:dateType>\n",
      "                                    <gmd:CI_DateTypeCode codeSpace=\"ISOTC211/19115\"\n",
      "                                        codeList=\"http://www.isotc211.org/2005/resources/Codelist/gmxCodelists.xml#CI_DateTypeCode\"\n",
      "                                        codeListValue=\"publication\"> publication </gmd:CI_DateTypeCode>\n",
      "                                </gmd:dateType>\n",
      "                            </gmd:CI_Date>\n",
      "                        </gmd:date>\n",
      "                    \n",
      "\n",
      "                    \n",
      "                        <gmd:edition>\n",
      "                            <gco:CharacterString>version: 2013-11-21</gco:CharacterString>\n",
      "                        </gmd:edition>\n",
      "                    \n",
      "                    \n",
      "                    <gmd:identifier>\n",
      "                        <gmd:MD_Identifier>\n",
      "                            <gmd:code>\n",
      "                                <gco:CharacterString>https://www.bco-dmo.org/dataset/472032</gco:CharacterString>\n",
      "                            </gmd:code>\n",
      "                        </gmd:MD_Identifier>\n",
      "                    </gmd:identifier>  \n",
      "\n",
      "                     \n",
      "                         \n",
      "                            <gmd:identifier>\n",
      "                                <gmd:RS_Identifier>\n",
      "                                    <gmd:code>\n",
      "                                        <gco:CharacterString>http://lod.bco-dmo.org/id/dataset/472032</gco:CharacterString>\n",
      "                                    </gmd:code>\n",
      "                                </gmd:RS_Identifier>\n",
      "                            </gmd:identifier> \n",
      "                        \n",
      "                     \n",
      "                        \n",
      "                        <!-- assumption is that identifier element content is an array, in which each element is \n",
      "                            either a string, or a JSON object of @type PropertyValue -->\n",
      "                            <gmd:identifier>\n",
      "                                <gmd:RS_Identifier>\n",
      "                                    <gmd:code>\n",
      "                                        <gco:CharacterString>10.1575/1912/bco-dmo.665253</gco:CharacterString>\n",
      "                                    </gmd:code>\n",
      "                                    <gmd:codeSpace>\n",
      "                                        <gco:CharacterString>http://purl.org/spar/datacite/doi</gco:CharacterString>\n",
      "                                    </gmd:codeSpace>\n",
      "                                </gmd:RS_Identifier>\n",
      "                            </gmd:identifier> \n",
      "                        \n",
      "                       \n",
      "\n",
      "                    \n",
      "                       \n",
      "                           <gmd:citedResponsibleParty xlink:href=\"https://www.bco-dmo.org/person/51317\">\n",
      "                       \n",
      "                            <gmd:CI_ResponsibleParty>\n",
      "                                \n",
      "                                    <gmd:individualName>\n",
      "                                        <gco:CharacterString> Dr Uta Passow </gco:CharacterString>\n",
      "                                    </gmd:individualName>\n",
      "                                \n",
      "                                \n",
      "             <!-- TBD need to process sdo contact information, but its not in the p418 examples -->\n",
      "                              <!--    <gmd:contactInfo>\n",
      "                                    <gmd:CI_Contact>\n",
      "                                        <gmd:phone>\n",
      "                                            <gmd:CI_Telephone>\n",
      "                                                <gmd:facsimile>\n",
      "                                                    <gco:CharacterString>fax phone citRespParty1</gco:CharacterString>\n",
      "                                                </gmd:facsimile>\n",
      "                                            </gmd:CI_Telephone>\n",
      "                                        </gmd:phone>\n",
      "                                    </gmd:CI_Contact>\n",
      "                                </gmd:contactInfo>-->\n",
      "                                \n",
      "                                <gmd:role>\n",
      "                                    <gmd:CI_RoleCode codeList=\"http://www.isotc211.org/2005/resources/Codelist/gmxCodelists.xml#CI_RoleCode\" \n",
      "                                        codeListValue=\"author\"> Principal Investigator</gmd:CI_RoleCode>\n",
      "                                </gmd:role>\n",
      "                                \n",
      "                            </gmd:CI_ResponsibleParty>\n",
      "                        </gmd:citedResponsibleParty>\n",
      "                    \n",
      "                       \n",
      "                           <gmd:citedResponsibleParty xlink:href=\"https://www.bco-dmo.org/person/50663\">\n",
      "                       \n",
      "                            <gmd:CI_ResponsibleParty>\n",
      "                                \n",
      "                                    <gmd:individualName>\n",
      "                                        <gco:CharacterString> Dr Mark Brzezinski </gco:CharacterString>\n",
      "                                    </gmd:individualName>\n",
      "                                \n",
      "                                \n",
      "             <!-- TBD need to process sdo contact information, but its not in the p418 examples -->\n",
      "                              <!--    <gmd:contactInfo>\n",
      "                                    <gmd:CI_Contact>\n",
      "                                        <gmd:phone>\n",
      "                                            <gmd:CI_Telephone>\n",
      "                                                <gmd:facsimile>\n",
      "                                                    <gco:CharacterString>fax phone citRespParty1</gco:CharacterString>\n",
      "                                                </gmd:facsimile>\n",
      "                                            </gmd:CI_Telephone>\n",
      "                                        </gmd:phone>\n",
      "                                    </gmd:CI_Contact>\n",
      "                                </gmd:contactInfo>-->\n",
      "                                \n",
      "                                <gmd:role>\n",
      "                                    <gmd:CI_RoleCode codeList=\"http://www.isotc211.org/2005/resources/Codelist/gmxCodelists.xml#CI_RoleCode\" \n",
      "                                        codeListValue=\"author\"> Co-Principal Investigator</gmd:CI_RoleCode>\n",
      "                                </gmd:role>\n",
      "                                \n",
      "                            </gmd:CI_ResponsibleParty>\n",
      "                        </gmd:citedResponsibleParty>\n",
      "                    \n",
      "                       \n",
      "                           <gmd:citedResponsibleParty xlink:href=\"https://www.bco-dmo.org/person/50575\">\n",
      "                       \n",
      "                            <gmd:CI_ResponsibleParty>\n",
      "                                \n",
      "                                    <gmd:individualName>\n",
      "                                        <gco:CharacterString> Dr Craig Carlson </gco:CharacterString>\n",
      "                                    </gmd:individualName>\n",
      "                                \n",
      "                                \n",
      "             <!-- TBD need to process sdo contact information, but its not in the p418 examples -->\n",
      "                              <!--    <gmd:contactInfo>\n",
      "                                    <gmd:CI_Contact>\n",
      "                                        <gmd:phone>\n",
      "                                            <gmd:CI_Telephone>\n",
      "                                                <gmd:facsimile>\n",
      "                                                    <gco:CharacterString>fax phone citRespParty1</gco:CharacterString>\n",
      "                                                </gmd:facsimile>\n",
      "                                            </gmd:CI_Telephone>\n",
      "                                        </gmd:phone>\n",
      "                                    </gmd:CI_Contact>\n",
      "                                </gmd:contactInfo>-->\n",
      "                                \n",
      "                                <gmd:role>\n",
      "                                    <gmd:CI_RoleCode codeList=\"http://www.isotc211.org/2005/resources/Codelist/gmxCodelists.xml#CI_RoleCode\" \n",
      "                                        codeListValue=\"author\"> Co-Principal Investigator</gmd:CI_RoleCode>\n",
      "                                </gmd:role>\n",
      "                                \n",
      "                            </gmd:CI_ResponsibleParty>\n",
      "                        </gmd:citedResponsibleParty>\n",
      "                    \n",
      "                       \n",
      "                           <gmd:citedResponsibleParty xlink:href=\"https://www.bco-dmo.org/person/471722\">\n",
      "                       \n",
      "                            <gmd:CI_ResponsibleParty>\n",
      "                                \n",
      "                                    <gmd:individualName>\n",
      "                                        <gco:CharacterString> Ms Anna James </gco:CharacterString>\n",
      "                                    </gmd:individualName>\n",
      "                                \n",
      "                                \n",
      "             <!-- TBD need to process sdo contact information, but its not in the p418 examples -->\n",
      "                              <!--    <gmd:contactInfo>\n",
      "                                    <gmd:CI_Contact>\n",
      "                                        <gmd:phone>\n",
      "                                            <gmd:CI_Telephone>\n",
      "                                                <gmd:facsimile>\n",
      "                                                    <gco:CharacterString>fax phone citRespParty1</gco:CharacterString>\n",
      "                                                </gmd:facsimile>\n",
      "                                            </gmd:CI_Telephone>\n",
      "                                        </gmd:phone>\n",
      "                                    </gmd:CI_Contact>\n",
      "                                </gmd:contactInfo>-->\n",
      "                                \n",
      "                                <gmd:role>\n",
      "                                    <gmd:CI_RoleCode codeList=\"http://www.isotc211.org/2005/resources/Codelist/gmxCodelists.xml#CI_RoleCode\" \n",
      "                                        codeListValue=\"author\"> Student</gmd:CI_RoleCode>\n",
      "                                </gmd:role>\n",
      "                                \n",
      "                            </gmd:CI_ResponsibleParty>\n",
      "                        </gmd:citedResponsibleParty>\n",
      "                      <!-- item in $.creator.* -->\n",
      "\n",
      "                    \n",
      "                        <gmd:otherCitationDetails>\n",
      "                            <gco:CharacterString>Recommended citation: Passow, U., Brzezinski, M., Carlson, C. (2016) Removal of organic carbon by natural bacterioplankton communities as a function of pCO2 from laboratory experiments between 2012 and 2016. Biological and Chemical Oceanography Data Management Office (BCO-DMO). Dataset version 2013-11-21 [if applicable, indicate subset used]. doi:10.1575/1912/bco-dmo.665253 [access date]</gco:CharacterString>\n",
      "                        </gmd:otherCitationDetails>\n",
      "                    \n",
      "                </gmd:CI_Citation>\n",
      "            </gmd:citation> \n",
      "\n",
      "             \n",
      "                <gmd:abstract>\n",
      "                    <gco:CharacterString>&lt;p&gt;This dataset includes results of laboratory experiments which measured dissolved organic carbon (DOC) usage by natural bacteria in seawater at different pCO2 levels. &amp;nbsp;Included in this dataset are; bacterial&amp;nbsp;abundance, total organic carbon (TOC), what DOC was added to the experiment, target pCO2 level. &amp;nbsp;The experiments were conducted between 2012 and 2016 during the R/V Kilo Moana cruise KM1416, at the Bermuda Institute for Ocean Sciences (BIOS), and the University of Santa Barbara.&lt;/p&gt;</gco:CharacterString>\n",
      "                </gmd:abstract> \n",
      "             \n",
      "            \n",
      "            <gmd:credit>\n",
      "                <gco:CharacterString>resource credit 1</gco:CharacterString>\n",
      "            </gmd:credit>\n",
      " \n",
      "\n",
      "\t    <!-- continuing work on this park -->\n",
      "             \n",
      "            <!-- keywords might be an array of strings, or a single string that is a comma-delimited list \n",
      "                have to figure out how to handle the list... -->\n",
      "                <gmd:descriptiveKeywords>\n",
      "                    <gmd:MD_Keywords> \n",
      "                        \n",
      "\t\t\t    <!-- should be md_keywords.split(',') -->\n",
      "                            \n",
      "                                <gmd:keyword>\n",
      "\t\t\t\t    <!-- should be trim(item) -->\n",
      "                                    <gco:CharacterString>ocean acidification</gco:CharacterString>\n",
      "                                </gmd:keyword>                           \n",
      "                            \n",
      "                                <gmd:keyword>\n",
      "\t\t\t\t    <!-- should be trim(item) -->\n",
      "                                    <gco:CharacterString> OA</gco:CharacterString>\n",
      "                                </gmd:keyword>                           \n",
      "                            \n",
      "                                <gmd:keyword>\n",
      "\t\t\t\t    <!-- should be trim(item) -->\n",
      "                                    <gco:CharacterString> Dissolved Organic Carbon</gco:CharacterString>\n",
      "                                </gmd:keyword>                           \n",
      "                            \n",
      "                                <gmd:keyword>\n",
      "\t\t\t\t    <!-- should be trim(item) -->\n",
      "                                    <gco:CharacterString> DOC</gco:CharacterString>\n",
      "                                </gmd:keyword>                           \n",
      "                            \n",
      "                                <gmd:keyword>\n",
      "\t\t\t\t    <!-- should be trim(item) -->\n",
      "                                    <gco:CharacterString> bacterioplankton respiration</gco:CharacterString>\n",
      "                                </gmd:keyword>                           \n",
      "                            \n",
      "                                <gmd:keyword>\n",
      "\t\t\t\t    <!-- should be trim(item) -->\n",
      "                                    <gco:CharacterString> pCO2</gco:CharacterString>\n",
      "                                </gmd:keyword>                           \n",
      "                            \n",
      "                                <gmd:keyword>\n",
      "\t\t\t\t    <!-- should be trim(item) -->\n",
      "                                    <gco:CharacterString> carbon dioxide</gco:CharacterString>\n",
      "                                </gmd:keyword>                           \n",
      "                            \n",
      "                                <gmd:keyword>\n",
      "\t\t\t\t    <!-- should be trim(item) -->\n",
      "                                    <gco:CharacterString> elevated pCO2</gco:CharacterString>\n",
      "                                </gmd:keyword>                           \n",
      "                            \n",
      "                                <gmd:keyword>\n",
      "\t\t\t\t    <!-- should be trim(item) -->\n",
      "                                    <gco:CharacterString> oceans</gco:CharacterString>\n",
      "                                </gmd:keyword>                           \n",
      "                            \n",
      "                        \n",
      "                        <gmd:type>\n",
      "                            <gmd:MD_KeywordTypeCode codeSpace=\"ISOTC211/19115\"\n",
      "                                codeList=\"http://www.isotc211.org/2005/resources/Codelist/gmxCodelists.xml#MD_KeywordTypeCode\"\n",
      "                                codeListValue=\"theme\">theme</gmd:MD_KeywordTypeCode>\n",
      "                        </gmd:type>\n",
      "                    </gmd:MD_Keywords>\n",
      "                </gmd:descriptiveKeywords> \n",
      "             \n",
      "\n",
      "\t    <!-- stuff that makes sense -->\n",
      "            \n",
      "            <gmd:resourceConstraints>\n",
      "                <gmd:MD_Constraints>\n",
      "                    \n",
      "                        <gmd:useLimitation>\n",
      "                            <gco:CharacterString> http://creativecommons.org/licenses/by/4.0/ </gco:CharacterString>\n",
      "                        </gmd:useLimitation>\n",
      "                    \n",
      "                    <!-- might need different handler if publishing principles is an array of objects -->\n",
      "                    \n",
      "                        <gmd:useLimitation>\n",
      "                            <gco:CharacterString> ID: http://creativecommons.org/licenses/by/4.0/, name: Dataset Usage License, URL: http://creativecommons.org/licenses/by/4.0/ </gco:CharacterString>\n",
      "                        </gmd:useLimitation>\n",
      "                    \n",
      "                </gmd:MD_Constraints>\n",
      "            </gmd:resourceConstraints>\n",
      "            \n",
      "\n",
      "            <gmd:language>\n",
      "                <gco:CharacterString>en</gco:CharacterString>\n",
      "            </gmd:language>\n",
      "            <gmd:topicCategory>\n",
      "                <gmd:MD_TopicCategoryCode>geoscientificInformation</gmd:MD_TopicCategoryCode>\n",
      "            </gmd:topicCategory>\n",
      "            <gmd:topicCategory>\n",
      "                <gmd:MD_TopicCategoryCode>environment</gmd:MD_TopicCategoryCode>\n",
      "            </gmd:topicCategory> \n",
      "\n",
      "\t    <!-- 8/15/2019 checkpoint -->\n",
      "            \n",
      "                 <gmd:extent>\n",
      "                     <gmd:EX_Extent>\n",
      "                         \n",
      "                         <!-- would be good to have a function here to check that the coordinates given for \n",
      "                         the box make sense. Should be southwest corner-space-northwest corner,\n",
      "                         with coordinates lat, long. Comma separation between lat and long, space separation \n",
      "                         between corner points. -->\n",
      "                         <gmd:geographicElement>\n",
      "                             <!-- assume 0-based indexes on arrays from 'split' function -->\n",
      "                             <gmd:EX_GeographicBoundingBox>\n",
      "                                 <gmd:westBoundLongitude>\n",
      "                                     <gco:Decimal>-149.8727</gco:Decimal>\n",
      "                                 </gmd:westBoundLongitude>\n",
      "                                 <gmd:eastBoundLongitude>\n",
      "                                     <gco:Decimal>-64.6353</gco:Decimal>\n",
      "                                 </gmd:eastBoundLongitude>\n",
      "                                 <gmd:southBoundLatitude>\n",
      "                                     <gco:Decimal>-17.45</gco:Decimal>\n",
      "                                 </gmd:southBoundLatitude>\n",
      "                                 <gmd:northBoundLatitude>\n",
      "                                     <gco:Decimal>34.407</gco:Decimal>\n",
      "                                 </gmd:northBoundLatitude>\n",
      "                             </gmd:EX_GeographicBoundingBox>\n",
      "                         </gmd:geographicElement>\n",
      "                           <!-- bounding box handler -->\n",
      "                         \n",
      "                         <!-- TBD  handl polygon represenations, but have to determine if they are different from bounding box.\n",
      "                         If only a polygon is provided, e.g. spatialCoverate.geo.polygon, need to calculate bounding box from \n",
      "                         the coordinates provided. -->\n",
      "                         \n",
      "                         <gmd:temporalElement>\n",
      "                             <gmd:EX_TemporalExtent>\n",
      "                                 <gmd:extent>\n",
      "                                     <gml:TimePeriod gml:id=\"Temporal\">\n",
      "                                         <!-- sdo date range syntax is like 2012-09-20/2016-01-22 '/' separate start and end dates-->\n",
      "                                         <gml:beginPosition> 2012-09-20 </gml:beginPosition>\n",
      "                                         <gml:endPosition> 2016-01-22 </gml:endPosition>\n",
      "                                     </gml:TimePeriod>\n",
      "                                 </gmd:extent>\n",
      "                             </gmd:EX_TemporalExtent>\n",
      "                         </gmd:temporalElement>\n",
      "                          <!-- temporal coverage -->\n",
      "                     </gmd:EX_Extent>\n",
      "                 </gmd:extent>\n",
      "            \n",
      "             <!-- spatial or temporal coverage -->\n",
      "\n",
      "            <gmd:supplementalInformation>\n",
      "                <gco:CharacterString>Data Identification supplemental information</gco:CharacterString>\n",
      "            </gmd:supplementalInformation>         \n",
      "        </gmd:MD_DataIdentification>\n",
      "    </gmd:identificationInfo> \n",
      "\n",
      "     \n",
      "</gmd:MD_Metadata>\n"
     ]
    }
   ],
   "source": [
    "print(template.render(render_mapping))"
   ]
  },
  {
   "cell_type": "markdown",
   "metadata": {},
   "source": [
    "The string can be turned into an xml object easily, given that the format is correct"
   ]
  },
  {
   "cell_type": "markdown",
   "metadata": {},
   "source": [
    "### Not demo: Checking whether each expression makes sense and how they work under the context of jsonpath"
   ]
  },
  {
   "cell_type": "code",
   "execution_count": null,
   "metadata": {},
   "outputs": [],
   "source": [
    "from jsonpath_rw import jsonpath, parse"
   ]
  },
  {
   "cell_type": "code",
   "execution_count": null,
   "metadata": {},
   "outputs": [],
   "source": [
    "test_jsonpath_expr = parse('foo[*].baz')"
   ]
  },
  {
   "cell_type": "code",
   "execution_count": null,
   "metadata": {},
   "outputs": [],
   "source": [
    "test_json_dict = {'foo': [{'baz': 1}, {'baz': 2}, {'adsadas':3}]}"
   ]
  },
  {
   "cell_type": "code",
   "execution_count": null,
   "metadata": {},
   "outputs": [],
   "source": [
    "[match.value for match in test_jsonpath_expr.find(test_json_dict)]"
   ]
  },
  {
   "cell_type": "code",
   "execution_count": null,
   "metadata": {},
   "outputs": [],
   "source": [
    "#the matches remember their path\n",
    "[str(match.full_path) for match in test_jsonpath_expr.find(test_json_dict)]"
   ]
  },
  {
   "cell_type": "code",
   "execution_count": null,
   "metadata": {},
   "outputs": [],
   "source": [
    "import json"
   ]
  },
  {
   "cell_type": "code",
   "execution_count": null,
   "metadata": {},
   "outputs": [],
   "source": [
    "fh = open('AS-BCODMO-SDOexample.json')\n",
    "json_dict = json.load(fh)\n",
    "def get_value(expression, source = json_dict):\n",
    "    expression = parse(expression)\n",
    "    try:\n",
    "        return expression.find(source)[0].value\n",
    "    except IndexError:\n",
    "        return ''"
   ]
  },
  {
   "cell_type": "code",
   "execution_count": null,
   "metadata": {},
   "outputs": [],
   "source": [
    "id_expression = '$.@id'\n",
    "md_id = get_value(id_expression)\n",
    "md_id"
   ]
  },
  {
   "cell_type": "code",
   "execution_count": null,
   "metadata": {},
   "outputs": [],
   "source": [
    "type_expression = '$.@type'\n",
    "md_type = get_value(type_expression)\n",
    "md_type"
   ]
  },
  {
   "cell_type": "code",
   "execution_count": null,
   "metadata": {},
   "outputs": [],
   "source": [
    "name_expression = '$.name'\n",
    "md_name = get_value(name_expression)\n",
    "md_name"
   ]
  },
  {
   "cell_type": "code",
   "execution_count": null,
   "metadata": {},
   "outputs": [],
   "source": [
    "alter_expression = '$.alternateName'\n",
    "md_alter = get_value(alter_expression)\n",
    "md_alter"
   ]
  },
  {
   "cell_type": "code",
   "execution_count": null,
   "metadata": {},
   "outputs": [],
   "source": [
    "date_pub_expr = '$.datePublished'\n",
    "md_date_pub = get_value(date_pub_expr)\n",
    "md_date_pub"
   ]
  },
  {
   "cell_type": "code",
   "execution_count": null,
   "metadata": {},
   "outputs": [],
   "source": [
    "version_expr = '$.version'\n",
    "md_version = get_value(version_expr)\n",
    "md_version"
   ]
  },
  {
   "cell_type": "code",
   "execution_count": null,
   "metadata": {},
   "outputs": [],
   "source": [
    "identifiers_expr = '$.identifier'\n",
    "md_identifiers = get_value(identifiers_expr)\n",
    "md_identifiers"
   ]
  },
  {
   "cell_type": "markdown",
   "metadata": {},
   "source": [
    "under identifiers"
   ]
  },
  {
   "cell_type": "code",
   "execution_count": null,
   "metadata": {},
   "outputs": [],
   "source": [
    "id_type_expr = '`this`.@type'\n",
    "id_value_expr = '`this`.value'\n",
    "id_propertyID_expr = '`this`.propertyID'"
   ]
  },
  {
   "cell_type": "code",
   "execution_count": null,
   "metadata": {},
   "outputs": [],
   "source": [
    "for item in md_identifiers:\n",
    "    print(parse(id_propertyID_expr).find(item))"
   ]
  },
  {
   "cell_type": "code",
   "execution_count": null,
   "metadata": {},
   "outputs": [],
   "source": [
    "keywords_expr = '$.keywords'\n",
    "md_keywords = [keyword.strip() for keyword in get_value(keywords_expr).split(',')]\n",
    "md_keywords"
   ]
  },
  {
   "cell_type": "code",
   "execution_count": null,
   "metadata": {},
   "outputs": [],
   "source": [
    "license_expr = '$.license'\n",
    "md_license = get_value(license_expr)\n",
    "md_license"
   ]
  },
  {
   "cell_type": "code",
   "execution_count": null,
   "metadata": {},
   "outputs": [],
   "source": [
    "pp_expr = '$.publishingPrinciples'\n",
    "md_pp = get_value(pp_expr)\n",
    "md_pp"
   ]
  },
  {
   "cell_type": "code",
   "execution_count": null,
   "metadata": {},
   "outputs": [],
   "source": [
    "temp_cov_expr = '$.temporalCoverage'\n",
    "md_temp_cov = get_value(temp_cov_expr)\n",
    "md_temp_cov"
   ]
  },
  {
   "cell_type": "code",
   "execution_count": null,
   "metadata": {},
   "outputs": [],
   "source": [
    "begin_end = md_temp_cov.split('/')\n",
    "begin = begin_end[0]\n",
    "end = begin_end[1]"
   ]
  },
  {
   "cell_type": "code",
   "execution_count": null,
   "metadata": {},
   "outputs": [],
   "source": [
    "spatial_cov_expr = '$.spatialCoverage'\n",
    "md_spatial = get_value(spatial_cov_expr)\n",
    "md_spatial"
   ]
  },
  {
   "cell_type": "code",
   "execution_count": null,
   "metadata": {},
   "outputs": [],
   "source": [
    "spatial_box_expr = '$.spatialCoverage..box'\n",
    "spatial_cov_box = get_value(spatial_box_expr)\n",
    "spatial_cov_box"
   ]
  },
  {
   "cell_type": "code",
   "execution_count": null,
   "metadata": {},
   "outputs": [],
   "source": [
    "coords = spatial_cov_box.split(' ')\n",
    "min_coords = coords[0]\n",
    "min_lat = min_coords.split(',')[0]\n",
    "min_long = min_coords.split(',')[1]\n",
    "max_coords = coords[1]\n",
    "max_lat = max_coords.split(',')[0]\n",
    "max_long = max_coords.split(',')[1]"
   ]
  },
  {
   "cell_type": "code",
   "execution_count": null,
   "metadata": {},
   "outputs": [],
   "source": [
    "url_expr = '$.url'\n",
    "md_url = get_value(url_expr)\n",
    "md_url"
   ]
  },
  {
   "cell_type": "code",
   "execution_count": null,
   "metadata": {},
   "outputs": [],
   "source": [
    "creators_expr = '$.creator'\n",
    "md_creators = get_value(creators_expr)\n",
    "md_creators"
   ]
  },
  {
   "cell_type": "code",
   "execution_count": null,
   "metadata": {},
   "outputs": [],
   "source": [
    "creator_url = '`this`.creator.url'\n",
    "creator_profile_type = '`this`.creator.@type'\n",
    "creator_profile_name = '`this`.creator.name'\n",
    "creator_role_name = '`this`.creator.roleName'"
   ]
  },
  {
   "cell_type": "code",
   "execution_count": null,
   "metadata": {},
   "outputs": [],
   "source": [
    "for item in md_creators:\n",
    "    #print(item)\n",
    "    print(parse('`this`.creator.url').find(item)[0].value)"
   ]
  },
  {
   "cell_type": "code",
   "execution_count": null,
   "metadata": {},
   "outputs": [],
   "source": [
    "citation_expr = '$.citation'\n",
    "md_cite = get_value(citation_expr)\n",
    "md_cite"
   ]
  },
  {
   "cell_type": "code",
   "execution_count": null,
   "metadata": {},
   "outputs": [],
   "source": [
    "desc_expr = '$.description'\n",
    "md_desc = get_value(desc_expr)\n",
    "md_desc"
   ]
  },
  {
   "cell_type": "code",
   "execution_count": null,
   "metadata": {},
   "outputs": [],
   "source": []
  }
 ],
 "metadata": {
  "kernelspec": {
   "display_name": "Python 3",
   "language": "python",
   "name": "python3"
  },
  "language_info": {
   "codemirror_mode": {
    "name": "ipython",
    "version": 3
   },
   "file_extension": ".py",
   "mimetype": "text/x-python",
   "name": "python",
   "nbconvert_exporter": "python",
   "pygments_lexer": "ipython3",
   "version": "3.7.2"
  }
 },
 "nbformat": 4,
 "nbformat_minor": 2
}
